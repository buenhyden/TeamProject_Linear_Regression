{
 "cells": [
  {
   "cell_type": "markdown",
   "metadata": {},
   "source": [
    "### Load Python Package"
   ]
  },
  {
   "cell_type": "code",
   "execution_count": 1,
   "metadata": {
    "scrolled": false
   },
   "outputs": [
    {
     "name": "stderr",
     "output_type": "stream",
     "text": [
      "/Users/hyunyoun/anaconda3/lib/python3.6/site-packages/statsmodels/compat/pandas.py:56: FutureWarning: The pandas.core.datetools module is deprecated and will be removed in a future version. Please use the pandas.tseries module instead.\n",
      "  from pandas.core import datetools\n"
     ]
    }
   ],
   "source": [
    "import pandas as pd\n",
    "import numpy as np\n",
    "import matplotlib.pyplot as plt\n",
    "import matplotlib\n",
    "from datetime import datetime\n",
    "from datetime import date\n",
    "import seaborn as sns\n",
    "from shapely.geometry import Point, MultiPolygon\n",
    "import geojson\n",
    "import statsmodels.api as sm\n",
    "from statsmodels.stats.outliers_influence import variance_inflation_factor\n",
    "import scipy as sp\n",
    "from statsmodels.graphics import utils\n",
    "import statsmodels.stats.api as sms\n",
    "from sklearn.preprocessing import PolynomialFeatures\n",
    "from sklearn.pipeline import make_pipeline\n",
    "from sklearn.linear_model import LinearRegression, Ridge, Lasso, ElasticNet\n",
    "from sklearn.model_selection import KFold\n",
    "from sklearn.preprocessing import OneHotEncoder, LabelEncoder\n",
    "from statsmodels.stats.outliers_influence import variance_inflation_factor\n",
    "from sklearn.metrics import mean_squared_error\n",
    "from math import sqrt\n",
    "import statsmodels.stats.stattools as stools\n",
    "%matplotlib inline"
   ]
  },
  {
   "cell_type": "markdown",
   "metadata": {},
   "source": [
    "### Load Training dataet"
   ]
  },
  {
   "cell_type": "code",
   "execution_count": 2,
   "metadata": {
    "scrolled": true
   },
   "outputs": [
    {
     "name": "stdout",
     "output_type": "stream",
     "text": [
      "Training data has 701778 rows and 32 columns\n",
      "data : 701778\n",
      "Feature : 32\n"
     ]
    }
   ],
   "source": [
    "train = pd.read_csv('./data/transformed_train.csv')\n",
    "print (\"Training data has {} rows and {} columns\".format(train.shape[0],train.shape[1]))\n",
    "print (\"data : {}\".format(train.shape[0]))\n",
    "print (\"Feature : {}\".format(train.shape[1]))"
   ]
  },
  {
   "cell_type": "code",
   "execution_count": 3,
   "metadata": {},
   "outputs": [
    {
     "data": {
      "text/plain": [
       "(701778, 32)"
      ]
     },
     "execution_count": 3,
     "metadata": {},
     "output_type": "execute_result"
    }
   ],
   "source": [
    "train.shape"
   ]
  },
  {
   "cell_type": "markdown",
   "metadata": {},
   "source": [
    "## feature Selection"
   ]
  },
  {
   "cell_type": "markdown",
   "metadata": {},
   "source": [
    "####  변수 선정\n",
    "* F-검정을 사용한 변수 중요도 비교"
   ]
  },
  {
   "cell_type": "code",
   "execution_count": 5,
   "metadata": {},
   "outputs": [
    {
     "data": {
      "text/html": [
       "<div>\n",
       "<style scoped>\n",
       "    .dataframe tbody tr th:only-of-type {\n",
       "        vertical-align: middle;\n",
       "    }\n",
       "\n",
       "    .dataframe tbody tr th {\n",
       "        vertical-align: top;\n",
       "    }\n",
       "\n",
       "    .dataframe thead th {\n",
       "        text-align: right;\n",
       "    }\n",
       "</style>\n",
       "<table border=\"1\" class=\"dataframe\">\n",
       "  <thead>\n",
       "    <tr style=\"text-align: right;\">\n",
       "      <th></th>\n",
       "      <th>sum_sq</th>\n",
       "      <th>df</th>\n",
       "      <th>F</th>\n",
       "      <th>PR(&gt;F)</th>\n",
       "    </tr>\n",
       "  </thead>\n",
       "  <tbody>\n",
       "    <tr>\n",
       "      <th>C(pickup_Province)</th>\n",
       "      <td>364.042880</td>\n",
       "      <td>5.0</td>\n",
       "      <td>333.212552</td>\n",
       "      <td>0.000000e+00</td>\n",
       "    </tr>\n",
       "    <tr>\n",
       "      <th>C(dropoff_Province)</th>\n",
       "      <td>250.812464</td>\n",
       "      <td>5.0</td>\n",
       "      <td>229.571476</td>\n",
       "      <td>9.211667e-246</td>\n",
       "    </tr>\n",
       "    <tr>\n",
       "      <th>C(vendor_id)</th>\n",
       "      <td>51.333177</td>\n",
       "      <td>1.0</td>\n",
       "      <td>234.929178</td>\n",
       "      <td>5.117186e-53</td>\n",
       "    </tr>\n",
       "    <tr>\n",
       "      <th>C(store_and_fwd_flag)</th>\n",
       "      <td>0.065315</td>\n",
       "      <td>1.0</td>\n",
       "      <td>0.298918</td>\n",
       "      <td>5.845619e-01</td>\n",
       "    </tr>\n",
       "    <tr>\n",
       "      <th>C(Event)</th>\n",
       "      <td>11.836638</td>\n",
       "      <td>1.0</td>\n",
       "      <td>54.171043</td>\n",
       "      <td>1.839746e-13</td>\n",
       "    </tr>\n",
       "    <tr>\n",
       "      <th>C(pickup_dropoff_same_Province)</th>\n",
       "      <td>24.483788</td>\n",
       "      <td>1.0</td>\n",
       "      <td>112.051435</td>\n",
       "      <td>3.497485e-26</td>\n",
       "    </tr>\n",
       "    <tr>\n",
       "      <th>C(rest_day)</th>\n",
       "      <td>165.247057</td>\n",
       "      <td>1.0</td>\n",
       "      <td>756.262469</td>\n",
       "      <td>2.139942e-166</td>\n",
       "    </tr>\n",
       "    <tr>\n",
       "      <th>C(weekend)</th>\n",
       "      <td>193.789046</td>\n",
       "      <td>1.0</td>\n",
       "      <td>886.886495</td>\n",
       "      <td>9.214225e-195</td>\n",
       "    </tr>\n",
       "    <tr>\n",
       "      <th>C(hr):C(day_of_week)</th>\n",
       "      <td>18332.236617</td>\n",
       "      <td>167.0</td>\n",
       "      <td>502.386313</td>\n",
       "      <td>0.000000e+00</td>\n",
       "    </tr>\n",
       "    <tr>\n",
       "      <th>I(np.log(distance + 0.1))</th>\n",
       "      <td>8823.744429</td>\n",
       "      <td>1.0</td>\n",
       "      <td>40382.363780</td>\n",
       "      <td>0.000000e+00</td>\n",
       "    </tr>\n",
       "    <tr>\n",
       "      <th>I(np.log(dummy_manhattan_dist + 0.1))</th>\n",
       "      <td>1681.080722</td>\n",
       "      <td>1.0</td>\n",
       "      <td>7693.560687</td>\n",
       "      <td>0.000000e+00</td>\n",
       "    </tr>\n",
       "    <tr>\n",
       "      <th>scale(bearing)</th>\n",
       "      <td>929.342012</td>\n",
       "      <td>1.0</td>\n",
       "      <td>4253.186106</td>\n",
       "      <td>0.000000e+00</td>\n",
       "    </tr>\n",
       "    <tr>\n",
       "      <th>scale(passenger_count)</th>\n",
       "      <td>27.521157</td>\n",
       "      <td>1.0</td>\n",
       "      <td>125.952126</td>\n",
       "      <td>3.168050e-29</td>\n",
       "    </tr>\n",
       "    <tr>\n",
       "      <th>pickup_longitude</th>\n",
       "      <td>10.945185</td>\n",
       "      <td>1.0</td>\n",
       "      <td>50.091258</td>\n",
       "      <td>1.468958e-12</td>\n",
       "    </tr>\n",
       "    <tr>\n",
       "      <th>pickup_latitude</th>\n",
       "      <td>8.868983</td>\n",
       "      <td>1.0</td>\n",
       "      <td>40.589401</td>\n",
       "      <td>1.879384e-10</td>\n",
       "    </tr>\n",
       "    <tr>\n",
       "      <th>dropoff_longitude</th>\n",
       "      <td>419.128956</td>\n",
       "      <td>1.0</td>\n",
       "      <td>1918.167295</td>\n",
       "      <td>0.000000e+00</td>\n",
       "    </tr>\n",
       "    <tr>\n",
       "      <th>dropoff_latitude</th>\n",
       "      <td>820.027561</td>\n",
       "      <td>1.0</td>\n",
       "      <td>3752.902358</td>\n",
       "      <td>0.000000e+00</td>\n",
       "    </tr>\n",
       "    <tr>\n",
       "      <th>Residual</th>\n",
       "      <td>153300.198485</td>\n",
       "      <td>701587.0</td>\n",
       "      <td>NaN</td>\n",
       "      <td>NaN</td>\n",
       "    </tr>\n",
       "  </tbody>\n",
       "</table>\n",
       "</div>"
      ],
      "text/plain": [
       "                                              sum_sq        df             F  \\\n",
       "C(pickup_Province)                        364.042880       5.0    333.212552   \n",
       "C(dropoff_Province)                       250.812464       5.0    229.571476   \n",
       "C(vendor_id)                               51.333177       1.0    234.929178   \n",
       "C(store_and_fwd_flag)                       0.065315       1.0      0.298918   \n",
       "C(Event)                                   11.836638       1.0     54.171043   \n",
       "C(pickup_dropoff_same_Province)            24.483788       1.0    112.051435   \n",
       "C(rest_day)                               165.247057       1.0    756.262469   \n",
       "C(weekend)                                193.789046       1.0    886.886495   \n",
       "C(hr):C(day_of_week)                    18332.236617     167.0    502.386313   \n",
       "I(np.log(distance + 0.1))                8823.744429       1.0  40382.363780   \n",
       "I(np.log(dummy_manhattan_dist + 0.1))    1681.080722       1.0   7693.560687   \n",
       "scale(bearing)                            929.342012       1.0   4253.186106   \n",
       "scale(passenger_count)                     27.521157       1.0    125.952126   \n",
       "pickup_longitude                           10.945185       1.0     50.091258   \n",
       "pickup_latitude                             8.868983       1.0     40.589401   \n",
       "dropoff_longitude                         419.128956       1.0   1918.167295   \n",
       "dropoff_latitude                          820.027561       1.0   3752.902358   \n",
       "Residual                               153300.198485  701587.0           NaN   \n",
       "\n",
       "                                              PR(>F)  \n",
       "C(pickup_Province)                      0.000000e+00  \n",
       "C(dropoff_Province)                    9.211667e-246  \n",
       "C(vendor_id)                            5.117186e-53  \n",
       "C(store_and_fwd_flag)                   5.845619e-01  \n",
       "C(Event)                                1.839746e-13  \n",
       "C(pickup_dropoff_same_Province)         3.497485e-26  \n",
       "C(rest_day)                            2.139942e-166  \n",
       "C(weekend)                             9.214225e-195  \n",
       "C(hr):C(day_of_week)                    0.000000e+00  \n",
       "I(np.log(distance + 0.1))               0.000000e+00  \n",
       "I(np.log(dummy_manhattan_dist + 0.1))   0.000000e+00  \n",
       "scale(bearing)                          0.000000e+00  \n",
       "scale(passenger_count)                  3.168050e-29  \n",
       "pickup_longitude                        1.468958e-12  \n",
       "pickup_latitude                         1.879384e-10  \n",
       "dropoff_longitude                       0.000000e+00  \n",
       "dropoff_latitude                        0.000000e+00  \n",
       "Residual                                         NaN  "
      ]
     },
     "execution_count": 5,
     "metadata": {},
     "output_type": "execute_result"
    }
   ],
   "source": [
    "formulaX = 'I(np.log(trip_duration)) ~ I(np.log(distance+0.1)) +I(np.log(dummy_manhattan_dist+0.1)) +scale(bearing)+ C(pickup_Province) +C(dropoff_Province)+C(hr):C(day_of_week)+ scale(passenger_count) + C(vendor_id) + C(store_and_fwd_flag) + C(Event) + C(pickup_dropoff_same_Province)+pickup_longitude+pickup_latitude+dropoff_longitude+dropoff_latitude+C(rest_day)+C(weekend)'\n",
    "modelx = sm.OLS.from_formula(formulaX, train)\n",
    "result = modelx.fit()\n",
    "sm.stats.anova_lm(result, typ = 2)\n"
   ]
  },
  {
   "cell_type": "markdown",
   "metadata": {},
   "source": [
    "#### Linear Regression"
   ]
  },
  {
   "cell_type": "markdown",
   "metadata": {},
   "source": [
    "#### 실제값과 회귀모델 식으로 구한 값사이의 연관성을 확인"
   ]
  },
  {
   "cell_type": "code",
   "execution_count": 7,
   "metadata": {
    "scrolled": false
   },
   "outputs": [
    {
     "data": {
      "text/html": [
       "<table class=\"simpletable\">\n",
       "<caption>OLS Regression Results</caption>\n",
       "<tr>\n",
       "  <th>Dep. Variable:</th>    <td>I(np.log(trip_duration))</td> <th>  R-squared:         </th>  <td>   0.650</td>  \n",
       "</tr>\n",
       "<tr>\n",
       "  <th>Model:</th>                       <td>OLS</td>           <th>  Adj. R-squared:    </th>  <td>   0.650</td>  \n",
       "</tr>\n",
       "<tr>\n",
       "  <th>Method:</th>                 <td>Least Squares</td>      <th>  F-statistic:       </th>  <td>   7077.</td>  \n",
       "</tr>\n",
       "<tr>\n",
       "  <th>Date:</th>                 <td>Wed, 28 Mar 2018</td>     <th>  Prob (F-statistic):</th>   <td>  0.00</td>   \n",
       "</tr>\n",
       "<tr>\n",
       "  <th>Time:</th>                     <td>16:00:46</td>         <th>  Log-Likelihood:    </th> <td>-4.6220e+05</td>\n",
       "</tr>\n",
       "<tr>\n",
       "  <th>No. Observations:</th>          <td>701778</td>          <th>  AIC:               </th>  <td>9.248e+05</td> \n",
       "</tr>\n",
       "<tr>\n",
       "  <th>Df Residuals:</th>              <td>701593</td>          <th>  BIC:               </th>  <td>9.269e+05</td> \n",
       "</tr>\n",
       "<tr>\n",
       "  <th>Df Model:</th>                  <td>   184</td>          <th>                     </th>      <td> </td>     \n",
       "</tr>\n",
       "<tr>\n",
       "  <th>Covariance Type:</th>          <td>nonrobust</td>        <th>                     </th>      <td> </td>     \n",
       "</tr>\n",
       "</table>\n",
       "<table class=\"simpletable\">\n",
       "<tr>\n",
       "                    <td></td>                       <th>coef</th>     <th>std err</th>      <th>t</th>      <th>P>|t|</th>  <th>[0.025</th>    <th>0.975]</th>  \n",
       "</tr>\n",
       "<tr>\n",
       "  <th>Intercept</th>                             <td>   -5.2914</td> <td>    1.401</td> <td>   -3.778</td> <td> 0.000</td> <td>   -8.037</td> <td>   -2.546</td>\n",
       "</tr>\n",
       "<tr>\n",
       "  <th>C(pickup_Province)[T.Brooklyn]</th>        <td>   -0.2281</td> <td>    0.020</td> <td>  -11.151</td> <td> 0.000</td> <td>   -0.268</td> <td>   -0.188</td>\n",
       "</tr>\n",
       "<tr>\n",
       "  <th>C(pickup_Province)[T.Manhattan]</th>       <td>   -0.1644</td> <td>    0.020</td> <td>   -8.238</td> <td> 0.000</td> <td>   -0.204</td> <td>   -0.125</td>\n",
       "</tr>\n",
       "<tr>\n",
       "  <th>C(pickup_Province)[T.Queens]</th>          <td>   -0.2763</td> <td>    0.020</td> <td>  -13.735</td> <td> 0.000</td> <td>   -0.316</td> <td>   -0.237</td>\n",
       "</tr>\n",
       "<tr>\n",
       "  <th>C(pickup_Province)[T.Staten Island]</th>   <td>    1.5133</td> <td>    0.094</td> <td>   16.142</td> <td> 0.000</td> <td>    1.330</td> <td>    1.697</td>\n",
       "</tr>\n",
       "<tr>\n",
       "  <th>C(pickup_Province)[T.outward]</th>         <td>   -0.3382</td> <td>    0.029</td> <td>  -11.781</td> <td> 0.000</td> <td>   -0.395</td> <td>   -0.282</td>\n",
       "</tr>\n",
       "<tr>\n",
       "  <th>C(dropoff_Province)[T.Brooklyn]</th>       <td>   -0.0258</td> <td>    0.008</td> <td>   -3.155</td> <td> 0.002</td> <td>   -0.042</td> <td>   -0.010</td>\n",
       "</tr>\n",
       "<tr>\n",
       "  <th>C(dropoff_Province)[T.Manhattan]</th>      <td>    0.0066</td> <td>    0.008</td> <td>    0.874</td> <td> 0.382</td> <td>   -0.008</td> <td>    0.021</td>\n",
       "</tr>\n",
       "<tr>\n",
       "  <th>C(dropoff_Province)[T.Queens]</th>         <td>   -0.0398</td> <td>    0.008</td> <td>   -5.043</td> <td> 0.000</td> <td>   -0.055</td> <td>   -0.024</td>\n",
       "</tr>\n",
       "<tr>\n",
       "  <th>C(dropoff_Province)[T.Staten Island]</th>  <td>   -0.3413</td> <td>    0.038</td> <td>   -9.025</td> <td> 0.000</td> <td>   -0.415</td> <td>   -0.267</td>\n",
       "</tr>\n",
       "<tr>\n",
       "  <th>C(dropoff_Province)[T.outward]</th>        <td>   -0.2479</td> <td>    0.012</td> <td>  -20.649</td> <td> 0.000</td> <td>   -0.271</td> <td>   -0.224</td>\n",
       "</tr>\n",
       "<tr>\n",
       "  <th>C(vendor_id)[T.2]</th>                     <td>    0.0219</td> <td>    0.001</td> <td>   19.577</td> <td> 0.000</td> <td>    0.020</td> <td>    0.024</td>\n",
       "</tr>\n",
       "<tr>\n",
       "  <th>C(rest_day)[T.True]</th>                   <td>   -0.0911</td> <td>    0.003</td> <td>  -27.181</td> <td> 0.000</td> <td>   -0.098</td> <td>   -0.085</td>\n",
       "</tr>\n",
       "<tr>\n",
       "  <th>C(weekend)[T.True]</th>                    <td>    0.2293</td> <td>    0.008</td> <td>   29.621</td> <td> 0.000</td> <td>    0.214</td> <td>    0.244</td>\n",
       "</tr>\n",
       "<tr>\n",
       "  <th>C(day_of_week)[T.1]</th>                   <td>    0.0427</td> <td>    0.015</td> <td>    2.888</td> <td> 0.004</td> <td>    0.014</td> <td>    0.072</td>\n",
       "</tr>\n",
       "<tr>\n",
       "  <th>C(day_of_week)[T.2]</th>                   <td>    0.0712</td> <td>    0.014</td> <td>    5.011</td> <td> 0.000</td> <td>    0.043</td> <td>    0.099</td>\n",
       "</tr>\n",
       "<tr>\n",
       "  <th>C(day_of_week)[T.3]</th>                   <td>    0.0803</td> <td>    0.014</td> <td>    5.867</td> <td> 0.000</td> <td>    0.053</td> <td>    0.107</td>\n",
       "</tr>\n",
       "<tr>\n",
       "  <th>C(day_of_week)[T.4]</th>                   <td>    0.1708</td> <td>    0.013</td> <td>   13.490</td> <td> 0.000</td> <td>    0.146</td> <td>    0.196</td>\n",
       "</tr>\n",
       "<tr>\n",
       "  <th>C(day_of_week)[T.5]</th>                   <td>    0.1164</td> <td>    0.006</td> <td>   20.173</td> <td> 0.000</td> <td>    0.105</td> <td>    0.128</td>\n",
       "</tr>\n",
       "<tr>\n",
       "  <th>C(day_of_week)[T.6]</th>                   <td>    0.1128</td> <td>    0.006</td> <td>   19.432</td> <td> 0.000</td> <td>    0.101</td> <td>    0.124</td>\n",
       "</tr>\n",
       "<tr>\n",
       "  <th>C(hr)[T.1]:C(day_of_week)[0]</th>          <td>   -0.0282</td> <td>    0.017</td> <td>   -1.625</td> <td> 0.104</td> <td>   -0.062</td> <td>    0.006</td>\n",
       "</tr>\n",
       "<tr>\n",
       "  <th>C(hr)[T.2]:C(day_of_week)[0]</th>          <td>   -0.0057</td> <td>    0.020</td> <td>   -0.280</td> <td> 0.779</td> <td>   -0.046</td> <td>    0.034</td>\n",
       "</tr>\n",
       "<tr>\n",
       "  <th>C(hr)[T.3]:C(day_of_week)[0]</th>          <td>    0.0117</td> <td>    0.023</td> <td>    0.507</td> <td> 0.612</td> <td>   -0.033</td> <td>    0.057</td>\n",
       "</tr>\n",
       "<tr>\n",
       "  <th>C(hr)[T.4]:C(day_of_week)[0]</th>          <td>   -0.0779</td> <td>    0.022</td> <td>   -3.570</td> <td> 0.000</td> <td>   -0.121</td> <td>   -0.035</td>\n",
       "</tr>\n",
       "<tr>\n",
       "  <th>C(hr)[T.5]:C(day_of_week)[0]</th>          <td>   -0.0932</td> <td>    0.018</td> <td>   -5.106</td> <td> 0.000</td> <td>   -0.129</td> <td>   -0.057</td>\n",
       "</tr>\n",
       "<tr>\n",
       "  <th>C(hr)[T.6]:C(day_of_week)[0]</th>          <td>   -0.0028</td> <td>    0.014</td> <td>   -0.203</td> <td> 0.839</td> <td>   -0.030</td> <td>    0.025</td>\n",
       "</tr>\n",
       "<tr>\n",
       "  <th>C(hr)[T.7]:C(day_of_week)[0]</th>          <td>    0.2483</td> <td>    0.013</td> <td>   19.539</td> <td> 0.000</td> <td>    0.223</td> <td>    0.273</td>\n",
       "</tr>\n",
       "<tr>\n",
       "  <th>C(hr)[T.8]:C(day_of_week)[0]</th>          <td>    0.4403</td> <td>    0.012</td> <td>   35.617</td> <td> 0.000</td> <td>    0.416</td> <td>    0.464</td>\n",
       "</tr>\n",
       "<tr>\n",
       "  <th>C(hr)[T.9]:C(day_of_week)[0]</th>          <td>    0.4869</td> <td>    0.012</td> <td>   39.310</td> <td> 0.000</td> <td>    0.463</td> <td>    0.511</td>\n",
       "</tr>\n",
       "<tr>\n",
       "  <th>C(hr)[T.10]:C(day_of_week)[0]</th>         <td>    0.4849</td> <td>    0.013</td> <td>   38.033</td> <td> 0.000</td> <td>    0.460</td> <td>    0.510</td>\n",
       "</tr>\n",
       "<tr>\n",
       "  <th>C(hr)[T.11]:C(day_of_week)[0]</th>         <td>    0.4761</td> <td>    0.013</td> <td>   37.521</td> <td> 0.000</td> <td>    0.451</td> <td>    0.501</td>\n",
       "</tr>\n",
       "<tr>\n",
       "  <th>C(hr)[T.12]:C(day_of_week)[0]</th>         <td>    0.4690</td> <td>    0.013</td> <td>   37.185</td> <td> 0.000</td> <td>    0.444</td> <td>    0.494</td>\n",
       "</tr>\n",
       "<tr>\n",
       "  <th>C(hr)[T.13]:C(day_of_week)[0]</th>         <td>    0.4311</td> <td>    0.013</td> <td>   34.083</td> <td> 0.000</td> <td>    0.406</td> <td>    0.456</td>\n",
       "</tr>\n",
       "<tr>\n",
       "  <th>C(hr)[T.14]:C(day_of_week)[0]</th>         <td>    0.4374</td> <td>    0.012</td> <td>   35.142</td> <td> 0.000</td> <td>    0.413</td> <td>    0.462</td>\n",
       "</tr>\n",
       "<tr>\n",
       "  <th>C(hr)[T.15]:C(day_of_week)[0]</th>         <td>    0.4531</td> <td>    0.012</td> <td>   36.251</td> <td> 0.000</td> <td>    0.429</td> <td>    0.478</td>\n",
       "</tr>\n",
       "<tr>\n",
       "  <th>C(hr)[T.16]:C(day_of_week)[0]</th>         <td>    0.4030</td> <td>    0.013</td> <td>   31.901</td> <td> 0.000</td> <td>    0.378</td> <td>    0.428</td>\n",
       "</tr>\n",
       "<tr>\n",
       "  <th>C(hr)[T.17]:C(day_of_week)[0]</th>         <td>    0.4090</td> <td>    0.012</td> <td>   33.230</td> <td> 0.000</td> <td>    0.385</td> <td>    0.433</td>\n",
       "</tr>\n",
       "<tr>\n",
       "  <th>C(hr)[T.18]:C(day_of_week)[0]</th>         <td>    0.3786</td> <td>    0.012</td> <td>   31.616</td> <td> 0.000</td> <td>    0.355</td> <td>    0.402</td>\n",
       "</tr>\n",
       "<tr>\n",
       "  <th>C(hr)[T.19]:C(day_of_week)[0]</th>         <td>    0.2559</td> <td>    0.012</td> <td>   21.201</td> <td> 0.000</td> <td>    0.232</td> <td>    0.280</td>\n",
       "</tr>\n",
       "<tr>\n",
       "  <th>C(hr)[T.20]:C(day_of_week)[0]</th>         <td>    0.1809</td> <td>    0.012</td> <td>   14.819</td> <td> 0.000</td> <td>    0.157</td> <td>    0.205</td>\n",
       "</tr>\n",
       "<tr>\n",
       "  <th>C(hr)[T.21]:C(day_of_week)[0]</th>         <td>    0.1493</td> <td>    0.012</td> <td>   12.157</td> <td> 0.000</td> <td>    0.125</td> <td>    0.173</td>\n",
       "</tr>\n",
       "<tr>\n",
       "  <th>C(hr)[T.22]:C(day_of_week)[0]</th>         <td>    0.1344</td> <td>    0.013</td> <td>   10.671</td> <td> 0.000</td> <td>    0.110</td> <td>    0.159</td>\n",
       "</tr>\n",
       "<tr>\n",
       "  <th>C(hr)[T.23]:C(day_of_week)[0]</th>         <td>    0.0773</td> <td>    0.013</td> <td>    5.784</td> <td> 0.000</td> <td>    0.051</td> <td>    0.103</td>\n",
       "</tr>\n",
       "<tr>\n",
       "  <th>C(hr)[T.1]:C(day_of_week)[1]</th>          <td>   -0.0420</td> <td>    0.017</td> <td>   -2.429</td> <td> 0.015</td> <td>   -0.076</td> <td>   -0.008</td>\n",
       "</tr>\n",
       "<tr>\n",
       "  <th>C(hr)[T.2]:C(day_of_week)[1]</th>          <td>   -0.0563</td> <td>    0.021</td> <td>   -2.714</td> <td> 0.007</td> <td>   -0.097</td> <td>   -0.016</td>\n",
       "</tr>\n",
       "<tr>\n",
       "  <th>C(hr)[T.3]:C(day_of_week)[1]</th>          <td>   -0.0997</td> <td>    0.025</td> <td>   -4.052</td> <td> 0.000</td> <td>   -0.148</td> <td>   -0.051</td>\n",
       "</tr>\n",
       "<tr>\n",
       "  <th>C(hr)[T.4]:C(day_of_week)[1]</th>          <td>   -0.1458</td> <td>    0.023</td> <td>   -6.295</td> <td> 0.000</td> <td>   -0.191</td> <td>   -0.100</td>\n",
       "</tr>\n",
       "<tr>\n",
       "  <th>C(hr)[T.5]:C(day_of_week)[1]</th>          <td>   -0.1678</td> <td>    0.018</td> <td>   -9.209</td> <td> 0.000</td> <td>   -0.204</td> <td>   -0.132</td>\n",
       "</tr>\n",
       "<tr>\n",
       "  <th>C(hr)[T.6]:C(day_of_week)[1]</th>          <td>   -0.0305</td> <td>    0.014</td> <td>   -2.205</td> <td> 0.027</td> <td>   -0.058</td> <td>   -0.003</td>\n",
       "</tr>\n",
       "<tr>\n",
       "  <th>C(hr)[T.7]:C(day_of_week)[1]</th>          <td>    0.2442</td> <td>    0.012</td> <td>   19.565</td> <td> 0.000</td> <td>    0.220</td> <td>    0.269</td>\n",
       "</tr>\n",
       "<tr>\n",
       "  <th>C(hr)[T.8]:C(day_of_week)[1]</th>          <td>    0.4598</td> <td>    0.012</td> <td>   37.612</td> <td> 0.000</td> <td>    0.436</td> <td>    0.484</td>\n",
       "</tr>\n",
       "<tr>\n",
       "  <th>C(hr)[T.9]:C(day_of_week)[1]</th>          <td>    0.5251</td> <td>    0.012</td> <td>   42.582</td> <td> 0.000</td> <td>    0.501</td> <td>    0.549</td>\n",
       "</tr>\n",
       "<tr>\n",
       "  <th>C(hr)[T.10]:C(day_of_week)[1]</th>         <td>    0.5362</td> <td>    0.013</td> <td>   42.572</td> <td> 0.000</td> <td>    0.512</td> <td>    0.561</td>\n",
       "</tr>\n",
       "<tr>\n",
       "  <th>C(hr)[T.11]:C(day_of_week)[1]</th>         <td>    0.5500</td> <td>    0.013</td> <td>   43.755</td> <td> 0.000</td> <td>    0.525</td> <td>    0.575</td>\n",
       "</tr>\n",
       "<tr>\n",
       "  <th>C(hr)[T.12]:C(day_of_week)[1]</th>         <td>    0.5367</td> <td>    0.013</td> <td>   42.808</td> <td> 0.000</td> <td>    0.512</td> <td>    0.561</td>\n",
       "</tr>\n",
       "<tr>\n",
       "  <th>C(hr)[T.13]:C(day_of_week)[1]</th>         <td>    0.5149</td> <td>    0.013</td> <td>   41.075</td> <td> 0.000</td> <td>    0.490</td> <td>    0.539</td>\n",
       "</tr>\n",
       "<tr>\n",
       "  <th>C(hr)[T.14]:C(day_of_week)[1]</th>         <td>    0.5009</td> <td>    0.012</td> <td>   40.404</td> <td> 0.000</td> <td>    0.477</td> <td>    0.525</td>\n",
       "</tr>\n",
       "<tr>\n",
       "  <th>C(hr)[T.15]:C(day_of_week)[1]</th>         <td>    0.4874</td> <td>    0.012</td> <td>   39.101</td> <td> 0.000</td> <td>    0.463</td> <td>    0.512</td>\n",
       "</tr>\n",
       "<tr>\n",
       "  <th>C(hr)[T.16]:C(day_of_week)[1]</th>         <td>    0.4536</td> <td>    0.013</td> <td>   35.716</td> <td> 0.000</td> <td>    0.429</td> <td>    0.478</td>\n",
       "</tr>\n",
       "<tr>\n",
       "  <th>C(hr)[T.17]:C(day_of_week)[1]</th>         <td>    0.4493</td> <td>    0.012</td> <td>   36.483</td> <td> 0.000</td> <td>    0.425</td> <td>    0.473</td>\n",
       "</tr>\n",
       "<tr>\n",
       "  <th>C(hr)[T.18]:C(day_of_week)[1]</th>         <td>    0.4204</td> <td>    0.012</td> <td>   35.035</td> <td> 0.000</td> <td>    0.397</td> <td>    0.444</td>\n",
       "</tr>\n",
       "<tr>\n",
       "  <th>C(hr)[T.19]:C(day_of_week)[1]</th>         <td>    0.2837</td> <td>    0.012</td> <td>   23.608</td> <td> 0.000</td> <td>    0.260</td> <td>    0.307</td>\n",
       "</tr>\n",
       "<tr>\n",
       "  <th>C(hr)[T.20]:C(day_of_week)[1]</th>         <td>    0.1942</td> <td>    0.012</td> <td>   16.121</td> <td> 0.000</td> <td>    0.171</td> <td>    0.218</td>\n",
       "</tr>\n",
       "<tr>\n",
       "  <th>C(hr)[T.21]:C(day_of_week)[1]</th>         <td>    0.1606</td> <td>    0.012</td> <td>   13.286</td> <td> 0.000</td> <td>    0.137</td> <td>    0.184</td>\n",
       "</tr>\n",
       "<tr>\n",
       "  <th>C(hr)[T.22]:C(day_of_week)[1]</th>         <td>    0.1513</td> <td>    0.012</td> <td>   12.341</td> <td> 0.000</td> <td>    0.127</td> <td>    0.175</td>\n",
       "</tr>\n",
       "<tr>\n",
       "  <th>C(hr)[T.23]:C(day_of_week)[1]</th>         <td>    0.0636</td> <td>    0.013</td> <td>    4.957</td> <td> 0.000</td> <td>    0.038</td> <td>    0.089</td>\n",
       "</tr>\n",
       "<tr>\n",
       "  <th>C(hr)[T.1]:C(day_of_week)[2]</th>          <td>   -0.0761</td> <td>    0.016</td> <td>   -4.810</td> <td> 0.000</td> <td>   -0.107</td> <td>   -0.045</td>\n",
       "</tr>\n",
       "<tr>\n",
       "  <th>C(hr)[T.2]:C(day_of_week)[2]</th>          <td>   -0.1007</td> <td>    0.018</td> <td>   -5.500</td> <td> 0.000</td> <td>   -0.137</td> <td>   -0.065</td>\n",
       "</tr>\n",
       "<tr>\n",
       "  <th>C(hr)[T.3]:C(day_of_week)[2]</th>          <td>   -0.1191</td> <td>    0.021</td> <td>   -5.572</td> <td> 0.000</td> <td>   -0.161</td> <td>   -0.077</td>\n",
       "</tr>\n",
       "<tr>\n",
       "  <th>C(hr)[T.4]:C(day_of_week)[2]</th>          <td>   -0.1595</td> <td>    0.022</td> <td>   -7.238</td> <td> 0.000</td> <td>   -0.203</td> <td>   -0.116</td>\n",
       "</tr>\n",
       "<tr>\n",
       "  <th>C(hr)[T.5]:C(day_of_week)[2]</th>          <td>   -0.1958</td> <td>    0.018</td> <td>  -11.104</td> <td> 0.000</td> <td>   -0.230</td> <td>   -0.161</td>\n",
       "</tr>\n",
       "<tr>\n",
       "  <th>C(hr)[T.6]:C(day_of_week)[2]</th>          <td>   -0.0716</td> <td>    0.013</td> <td>   -5.428</td> <td> 0.000</td> <td>   -0.098</td> <td>   -0.046</td>\n",
       "</tr>\n",
       "<tr>\n",
       "  <th>C(hr)[T.7]:C(day_of_week)[2]</th>          <td>    0.2230</td> <td>    0.012</td> <td>   19.026</td> <td> 0.000</td> <td>    0.200</td> <td>    0.246</td>\n",
       "</tr>\n",
       "<tr>\n",
       "  <th>C(hr)[T.8]:C(day_of_week)[2]</th>          <td>    0.4144</td> <td>    0.011</td> <td>   36.227</td> <td> 0.000</td> <td>    0.392</td> <td>    0.437</td>\n",
       "</tr>\n",
       "<tr>\n",
       "  <th>C(hr)[T.9]:C(day_of_week)[2]</th>          <td>    0.4827</td> <td>    0.012</td> <td>   41.454</td> <td> 0.000</td> <td>    0.460</td> <td>    0.505</td>\n",
       "</tr>\n",
       "<tr>\n",
       "  <th>C(hr)[T.10]:C(day_of_week)[2]</th>         <td>    0.4970</td> <td>    0.012</td> <td>   41.937</td> <td> 0.000</td> <td>    0.474</td> <td>    0.520</td>\n",
       "</tr>\n",
       "<tr>\n",
       "  <th>C(hr)[T.11]:C(day_of_week)[2]</th>         <td>    0.5295</td> <td>    0.012</td> <td>   44.540</td> <td> 0.000</td> <td>    0.506</td> <td>    0.553</td>\n",
       "</tr>\n",
       "<tr>\n",
       "  <th>C(hr)[T.12]:C(day_of_week)[2]</th>         <td>    0.5247</td> <td>    0.012</td> <td>   44.611</td> <td> 0.000</td> <td>    0.502</td> <td>    0.548</td>\n",
       "</tr>\n",
       "<tr>\n",
       "  <th>C(hr)[T.13]:C(day_of_week)[2]</th>         <td>    0.5077</td> <td>    0.012</td> <td>   43.054</td> <td> 0.000</td> <td>    0.485</td> <td>    0.531</td>\n",
       "</tr>\n",
       "<tr>\n",
       "  <th>C(hr)[T.14]:C(day_of_week)[2]</th>         <td>    0.4866</td> <td>    0.012</td> <td>   41.646</td> <td> 0.000</td> <td>    0.464</td> <td>    0.510</td>\n",
       "</tr>\n",
       "<tr>\n",
       "  <th>C(hr)[T.15]:C(day_of_week)[2]</th>         <td>    0.4779</td> <td>    0.012</td> <td>   40.642</td> <td> 0.000</td> <td>    0.455</td> <td>    0.501</td>\n",
       "</tr>\n",
       "<tr>\n",
       "  <th>C(hr)[T.16]:C(day_of_week)[2]</th>         <td>    0.4107</td> <td>    0.012</td> <td>   34.298</td> <td> 0.000</td> <td>    0.387</td> <td>    0.434</td>\n",
       "</tr>\n",
       "<tr>\n",
       "  <th>C(hr)[T.17]:C(day_of_week)[2]</th>         <td>    0.4394</td> <td>    0.012</td> <td>   37.845</td> <td> 0.000</td> <td>    0.417</td> <td>    0.462</td>\n",
       "</tr>\n",
       "<tr>\n",
       "  <th>C(hr)[T.18]:C(day_of_week)[2]</th>         <td>    0.3972</td> <td>    0.011</td> <td>   35.240</td> <td> 0.000</td> <td>    0.375</td> <td>    0.419</td>\n",
       "</tr>\n",
       "<tr>\n",
       "  <th>C(hr)[T.19]:C(day_of_week)[2]</th>         <td>    0.2893</td> <td>    0.011</td> <td>   25.681</td> <td> 0.000</td> <td>    0.267</td> <td>    0.311</td>\n",
       "</tr>\n",
       "<tr>\n",
       "  <th>C(hr)[T.20]:C(day_of_week)[2]</th>         <td>    0.1997</td> <td>    0.011</td> <td>   17.692</td> <td> 0.000</td> <td>    0.178</td> <td>    0.222</td>\n",
       "</tr>\n",
       "<tr>\n",
       "  <th>C(hr)[T.21]:C(day_of_week)[2]</th>         <td>    0.1607</td> <td>    0.011</td> <td>   14.236</td> <td> 0.000</td> <td>    0.139</td> <td>    0.183</td>\n",
       "</tr>\n",
       "<tr>\n",
       "  <th>C(hr)[T.22]:C(day_of_week)[2]</th>         <td>    0.1442</td> <td>    0.011</td> <td>   12.597</td> <td> 0.000</td> <td>    0.122</td> <td>    0.167</td>\n",
       "</tr>\n",
       "<tr>\n",
       "  <th>C(hr)[T.23]:C(day_of_week)[2]</th>         <td>    0.0906</td> <td>    0.012</td> <td>    7.594</td> <td> 0.000</td> <td>    0.067</td> <td>    0.114</td>\n",
       "</tr>\n",
       "<tr>\n",
       "  <th>C(hr)[T.1]:C(day_of_week)[3]</th>          <td>   -0.0617</td> <td>    0.015</td> <td>   -4.255</td> <td> 0.000</td> <td>   -0.090</td> <td>   -0.033</td>\n",
       "</tr>\n",
       "<tr>\n",
       "  <th>C(hr)[T.2]:C(day_of_week)[3]</th>          <td>   -0.0925</td> <td>    0.017</td> <td>   -5.325</td> <td> 0.000</td> <td>   -0.127</td> <td>   -0.058</td>\n",
       "</tr>\n",
       "<tr>\n",
       "  <th>C(hr)[T.3]:C(day_of_week)[3]</th>          <td>   -0.1320</td> <td>    0.020</td> <td>   -6.695</td> <td> 0.000</td> <td>   -0.171</td> <td>   -0.093</td>\n",
       "</tr>\n",
       "<tr>\n",
       "  <th>C(hr)[T.4]:C(day_of_week)[3]</th>          <td>   -0.1645</td> <td>    0.020</td> <td>   -8.037</td> <td> 0.000</td> <td>   -0.205</td> <td>   -0.124</td>\n",
       "</tr>\n",
       "<tr>\n",
       "  <th>C(hr)[T.5]:C(day_of_week)[3]</th>          <td>   -0.1934</td> <td>    0.017</td> <td>  -11.422</td> <td> 0.000</td> <td>   -0.227</td> <td>   -0.160</td>\n",
       "</tr>\n",
       "<tr>\n",
       "  <th>C(hr)[T.6]:C(day_of_week)[3]</th>          <td>   -0.0710</td> <td>    0.013</td> <td>   -5.666</td> <td> 0.000</td> <td>   -0.096</td> <td>   -0.046</td>\n",
       "</tr>\n",
       "<tr>\n",
       "  <th>C(hr)[T.7]:C(day_of_week)[3]</th>          <td>    0.2126</td> <td>    0.011</td> <td>   19.188</td> <td> 0.000</td> <td>    0.191</td> <td>    0.234</td>\n",
       "</tr>\n",
       "<tr>\n",
       "  <th>C(hr)[T.8]:C(day_of_week)[3]</th>          <td>    0.4278</td> <td>    0.011</td> <td>   39.562</td> <td> 0.000</td> <td>    0.407</td> <td>    0.449</td>\n",
       "</tr>\n",
       "<tr>\n",
       "  <th>C(hr)[T.9]:C(day_of_week)[3]</th>          <td>    0.4758</td> <td>    0.011</td> <td>   43.238</td> <td> 0.000</td> <td>    0.454</td> <td>    0.497</td>\n",
       "</tr>\n",
       "<tr>\n",
       "  <th>C(hr)[T.10]:C(day_of_week)[3]</th>         <td>    0.4822</td> <td>    0.011</td> <td>   43.122</td> <td> 0.000</td> <td>    0.460</td> <td>    0.504</td>\n",
       "</tr>\n",
       "<tr>\n",
       "  <th>C(hr)[T.11]:C(day_of_week)[3]</th>         <td>    0.5134</td> <td>    0.011</td> <td>   45.969</td> <td> 0.000</td> <td>    0.491</td> <td>    0.535</td>\n",
       "</tr>\n",
       "<tr>\n",
       "  <th>C(hr)[T.12]:C(day_of_week)[3]</th>         <td>    0.5123</td> <td>    0.011</td> <td>   46.214</td> <td> 0.000</td> <td>    0.491</td> <td>    0.534</td>\n",
       "</tr>\n",
       "<tr>\n",
       "  <th>C(hr)[T.13]:C(day_of_week)[3]</th>         <td>    0.4718</td> <td>    0.011</td> <td>   42.396</td> <td> 0.000</td> <td>    0.450</td> <td>    0.494</td>\n",
       "</tr>\n",
       "<tr>\n",
       "  <th>C(hr)[T.14]:C(day_of_week)[3]</th>         <td>    0.4902</td> <td>    0.011</td> <td>   44.719</td> <td> 0.000</td> <td>    0.469</td> <td>    0.512</td>\n",
       "</tr>\n",
       "<tr>\n",
       "  <th>C(hr)[T.15]:C(day_of_week)[3]</th>         <td>    0.4787</td> <td>    0.011</td> <td>   43.357</td> <td> 0.000</td> <td>    0.457</td> <td>    0.500</td>\n",
       "</tr>\n",
       "<tr>\n",
       "  <th>C(hr)[T.16]:C(day_of_week)[3]</th>         <td>    0.4320</td> <td>    0.011</td> <td>   37.869</td> <td> 0.000</td> <td>    0.410</td> <td>    0.454</td>\n",
       "</tr>\n",
       "<tr>\n",
       "  <th>C(hr)[T.17]:C(day_of_week)[3]</th>         <td>    0.4096</td> <td>    0.011</td> <td>   37.276</td> <td> 0.000</td> <td>    0.388</td> <td>    0.431</td>\n",
       "</tr>\n",
       "<tr>\n",
       "  <th>C(hr)[T.18]:C(day_of_week)[3]</th>         <td>    0.4101</td> <td>    0.011</td> <td>   38.802</td> <td> 0.000</td> <td>    0.389</td> <td>    0.431</td>\n",
       "</tr>\n",
       "<tr>\n",
       "  <th>C(hr)[T.19]:C(day_of_week)[3]</th>         <td>    0.3175</td> <td>    0.011</td> <td>   30.107</td> <td> 0.000</td> <td>    0.297</td> <td>    0.338</td>\n",
       "</tr>\n",
       "<tr>\n",
       "  <th>C(hr)[T.20]:C(day_of_week)[3]</th>         <td>    0.2381</td> <td>    0.011</td> <td>   22.525</td> <td> 0.000</td> <td>    0.217</td> <td>    0.259</td>\n",
       "</tr>\n",
       "<tr>\n",
       "  <th>C(hr)[T.21]:C(day_of_week)[3]</th>         <td>    0.1989</td> <td>    0.011</td> <td>   18.902</td> <td> 0.000</td> <td>    0.178</td> <td>    0.220</td>\n",
       "</tr>\n",
       "<tr>\n",
       "  <th>C(hr)[T.22]:C(day_of_week)[3]</th>         <td>    0.1894</td> <td>    0.011</td> <td>   17.842</td> <td> 0.000</td> <td>    0.169</td> <td>    0.210</td>\n",
       "</tr>\n",
       "<tr>\n",
       "  <th>C(hr)[T.23]:C(day_of_week)[3]</th>         <td>    0.1280</td> <td>    0.011</td> <td>   11.796</td> <td> 0.000</td> <td>    0.107</td> <td>    0.149</td>\n",
       "</tr>\n",
       "<tr>\n",
       "  <th>C(hr)[T.1]:C(day_of_week)[4]</th>          <td>   -0.0334</td> <td>    0.011</td> <td>   -2.940</td> <td> 0.003</td> <td>   -0.056</td> <td>   -0.011</td>\n",
       "</tr>\n",
       "<tr>\n",
       "  <th>C(hr)[T.2]:C(day_of_week)[4]</th>          <td>   -0.0774</td> <td>    0.013</td> <td>   -6.100</td> <td> 0.000</td> <td>   -0.102</td> <td>   -0.053</td>\n",
       "</tr>\n",
       "<tr>\n",
       "  <th>C(hr)[T.3]:C(day_of_week)[4]</th>          <td>   -0.0883</td> <td>    0.014</td> <td>   -6.302</td> <td> 0.000</td> <td>   -0.116</td> <td>   -0.061</td>\n",
       "</tr>\n",
       "<tr>\n",
       "  <th>C(hr)[T.4]:C(day_of_week)[4]</th>          <td>   -0.1411</td> <td>    0.016</td> <td>   -9.050</td> <td> 0.000</td> <td>   -0.172</td> <td>   -0.111</td>\n",
       "</tr>\n",
       "<tr>\n",
       "  <th>C(hr)[T.5]:C(day_of_week)[4]</th>          <td>   -0.2453</td> <td>    0.015</td> <td>  -16.022</td> <td> 0.000</td> <td>   -0.275</td> <td>   -0.215</td>\n",
       "</tr>\n",
       "<tr>\n",
       "  <th>C(hr)[T.6]:C(day_of_week)[4]</th>          <td>   -0.1582</td> <td>    0.011</td> <td>  -13.775</td> <td> 0.000</td> <td>   -0.181</td> <td>   -0.136</td>\n",
       "</tr>\n",
       "<tr>\n",
       "  <th>C(hr)[T.7]:C(day_of_week)[4]</th>          <td>    0.1041</td> <td>    0.010</td> <td>   10.599</td> <td> 0.000</td> <td>    0.085</td> <td>    0.123</td>\n",
       "</tr>\n",
       "<tr>\n",
       "  <th>C(hr)[T.8]:C(day_of_week)[4]</th>          <td>    0.3042</td> <td>    0.010</td> <td>   31.860</td> <td> 0.000</td> <td>    0.286</td> <td>    0.323</td>\n",
       "</tr>\n",
       "<tr>\n",
       "  <th>C(hr)[T.9]:C(day_of_week)[4]</th>          <td>    0.3572</td> <td>    0.010</td> <td>   36.940</td> <td> 0.000</td> <td>    0.338</td> <td>    0.376</td>\n",
       "</tr>\n",
       "<tr>\n",
       "  <th>C(hr)[T.10]:C(day_of_week)[4]</th>         <td>    0.3585</td> <td>    0.010</td> <td>   36.078</td> <td> 0.000</td> <td>    0.339</td> <td>    0.378</td>\n",
       "</tr>\n",
       "<tr>\n",
       "  <th>C(hr)[T.11]:C(day_of_week)[4]</th>         <td>    0.3617</td> <td>    0.010</td> <td>   36.637</td> <td> 0.000</td> <td>    0.342</td> <td>    0.381</td>\n",
       "</tr>\n",
       "<tr>\n",
       "  <th>C(hr)[T.12]:C(day_of_week)[4]</th>         <td>    0.3478</td> <td>    0.010</td> <td>   35.750</td> <td> 0.000</td> <td>    0.329</td> <td>    0.367</td>\n",
       "</tr>\n",
       "<tr>\n",
       "  <th>C(hr)[T.13]:C(day_of_week)[4]</th>         <td>    0.2917</td> <td>    0.010</td> <td>   29.991</td> <td> 0.000</td> <td>    0.273</td> <td>    0.311</td>\n",
       "</tr>\n",
       "<tr>\n",
       "  <th>C(hr)[T.14]:C(day_of_week)[4]</th>         <td>    0.3307</td> <td>    0.010</td> <td>   34.635</td> <td> 0.000</td> <td>    0.312</td> <td>    0.349</td>\n",
       "</tr>\n",
       "<tr>\n",
       "  <th>C(hr)[T.15]:C(day_of_week)[4]</th>         <td>    0.3664</td> <td>    0.010</td> <td>   37.829</td> <td> 0.000</td> <td>    0.347</td> <td>    0.385</td>\n",
       "</tr>\n",
       "<tr>\n",
       "  <th>C(hr)[T.16]:C(day_of_week)[4]</th>         <td>    0.3094</td> <td>    0.010</td> <td>   30.950</td> <td> 0.000</td> <td>    0.290</td> <td>    0.329</td>\n",
       "</tr>\n",
       "<tr>\n",
       "  <th>C(hr)[T.17]:C(day_of_week)[4]</th>         <td>    0.2928</td> <td>    0.010</td> <td>   30.763</td> <td> 0.000</td> <td>    0.274</td> <td>    0.311</td>\n",
       "</tr>\n",
       "<tr>\n",
       "  <th>C(hr)[T.18]:C(day_of_week)[4]</th>         <td>    0.2890</td> <td>    0.009</td> <td>   31.694</td> <td> 0.000</td> <td>    0.271</td> <td>    0.307</td>\n",
       "</tr>\n",
       "<tr>\n",
       "  <th>C(hr)[T.19]:C(day_of_week)[4]</th>         <td>    0.2456</td> <td>    0.009</td> <td>   27.130</td> <td> 0.000</td> <td>    0.228</td> <td>    0.263</td>\n",
       "</tr>\n",
       "<tr>\n",
       "  <th>C(hr)[T.20]:C(day_of_week)[4]</th>         <td>    0.1866</td> <td>    0.009</td> <td>   20.255</td> <td> 0.000</td> <td>    0.169</td> <td>    0.205</td>\n",
       "</tr>\n",
       "<tr>\n",
       "  <th>C(hr)[T.21]:C(day_of_week)[4]</th>         <td>    0.1561</td> <td>    0.009</td> <td>   16.855</td> <td> 0.000</td> <td>    0.138</td> <td>    0.174</td>\n",
       "</tr>\n",
       "<tr>\n",
       "  <th>C(hr)[T.22]:C(day_of_week)[4]</th>         <td>    0.1752</td> <td>    0.009</td> <td>   19.057</td> <td> 0.000</td> <td>    0.157</td> <td>    0.193</td>\n",
       "</tr>\n",
       "<tr>\n",
       "  <th>C(hr)[T.23]:C(day_of_week)[4]</th>         <td>    0.1682</td> <td>    0.009</td> <td>   18.261</td> <td> 0.000</td> <td>    0.150</td> <td>    0.186</td>\n",
       "</tr>\n",
       "<tr>\n",
       "  <th>C(hr)[T.1]:C(day_of_week)[5]</th>          <td>   -0.0723</td> <td>    0.009</td> <td>   -8.079</td> <td> 0.000</td> <td>   -0.090</td> <td>   -0.055</td>\n",
       "</tr>\n",
       "<tr>\n",
       "  <th>C(hr)[T.2]:C(day_of_week)[5]</th>          <td>   -0.1059</td> <td>    0.009</td> <td>  -11.206</td> <td> 0.000</td> <td>   -0.124</td> <td>   -0.087</td>\n",
       "</tr>\n",
       "<tr>\n",
       "  <th>C(hr)[T.3]:C(day_of_week)[5]</th>          <td>   -0.1599</td> <td>    0.010</td> <td>  -15.266</td> <td> 0.000</td> <td>   -0.180</td> <td>   -0.139</td>\n",
       "</tr>\n",
       "<tr>\n",
       "  <th>C(hr)[T.4]:C(day_of_week)[5]</th>          <td>   -0.1871</td> <td>    0.012</td> <td>  -15.151</td> <td> 0.000</td> <td>   -0.211</td> <td>   -0.163</td>\n",
       "</tr>\n",
       "<tr>\n",
       "  <th>C(hr)[T.5]:C(day_of_week)[5]</th>          <td>   -0.3233</td> <td>    0.016</td> <td>  -19.702</td> <td> 0.000</td> <td>   -0.355</td> <td>   -0.291</td>\n",
       "</tr>\n",
       "<tr>\n",
       "  <th>C(hr)[T.6]:C(day_of_week)[5]</th>          <td>   -0.3656</td> <td>    0.015</td> <td>  -24.959</td> <td> 0.000</td> <td>   -0.394</td> <td>   -0.337</td>\n",
       "</tr>\n",
       "<tr>\n",
       "  <th>C(hr)[T.7]:C(day_of_week)[5]</th>          <td>   -0.2820</td> <td>    0.013</td> <td>  -22.291</td> <td> 0.000</td> <td>   -0.307</td> <td>   -0.257</td>\n",
       "</tr>\n",
       "<tr>\n",
       "  <th>C(hr)[T.8]:C(day_of_week)[5]</th>          <td>   -0.1856</td> <td>    0.011</td> <td>  -17.058</td> <td> 0.000</td> <td>   -0.207</td> <td>   -0.164</td>\n",
       "</tr>\n",
       "<tr>\n",
       "  <th>C(hr)[T.9]:C(day_of_week)[5]</th>          <td>   -0.1127</td> <td>    0.010</td> <td>  -11.706</td> <td> 0.000</td> <td>   -0.132</td> <td>   -0.094</td>\n",
       "</tr>\n",
       "<tr>\n",
       "  <th>C(hr)[T.10]:C(day_of_week)[5]</th>         <td>   -0.0549</td> <td>    0.009</td> <td>   -6.017</td> <td> 0.000</td> <td>   -0.073</td> <td>   -0.037</td>\n",
       "</tr>\n",
       "<tr>\n",
       "  <th>C(hr)[T.11]:C(day_of_week)[5]</th>         <td>    0.0175</td> <td>    0.009</td> <td>    1.957</td> <td> 0.050</td> <td>-2.38e-05</td> <td>    0.035</td>\n",
       "</tr>\n",
       "<tr>\n",
       "  <th>C(hr)[T.12]:C(day_of_week)[5]</th>         <td>    0.0650</td> <td>    0.009</td> <td>    7.483</td> <td> 0.000</td> <td>    0.048</td> <td>    0.082</td>\n",
       "</tr>\n",
       "<tr>\n",
       "  <th>C(hr)[T.13]:C(day_of_week)[5]</th>         <td>    0.1250</td> <td>    0.009</td> <td>   14.386</td> <td> 0.000</td> <td>    0.108</td> <td>    0.142</td>\n",
       "</tr>\n",
       "<tr>\n",
       "  <th>C(hr)[T.14]:C(day_of_week)[5]</th>         <td>    0.1073</td> <td>    0.009</td> <td>   12.238</td> <td> 0.000</td> <td>    0.090</td> <td>    0.124</td>\n",
       "</tr>\n",
       "<tr>\n",
       "  <th>C(hr)[T.15]:C(day_of_week)[5]</th>         <td>    0.1185</td> <td>    0.009</td> <td>   13.554</td> <td> 0.000</td> <td>    0.101</td> <td>    0.136</td>\n",
       "</tr>\n",
       "<tr>\n",
       "  <th>C(hr)[T.16]:C(day_of_week)[5]</th>         <td>    0.1209</td> <td>    0.009</td> <td>   13.557</td> <td> 0.000</td> <td>    0.103</td> <td>    0.138</td>\n",
       "</tr>\n",
       "<tr>\n",
       "  <th>C(hr)[T.17]:C(day_of_week)[5]</th>         <td>    0.1398</td> <td>    0.009</td> <td>   16.211</td> <td> 0.000</td> <td>    0.123</td> <td>    0.157</td>\n",
       "</tr>\n",
       "<tr>\n",
       "  <th>C(hr)[T.18]:C(day_of_week)[5]</th>         <td>    0.1625</td> <td>    0.008</td> <td>   19.375</td> <td> 0.000</td> <td>    0.146</td> <td>    0.179</td>\n",
       "</tr>\n",
       "<tr>\n",
       "  <th>C(hr)[T.19]:C(day_of_week)[5]</th>         <td>    0.1943</td> <td>    0.008</td> <td>   23.266</td> <td> 0.000</td> <td>    0.178</td> <td>    0.211</td>\n",
       "</tr>\n",
       "<tr>\n",
       "  <th>C(hr)[T.20]:C(day_of_week)[5]</th>         <td>    0.1263</td> <td>    0.009</td> <td>   14.547</td> <td> 0.000</td> <td>    0.109</td> <td>    0.143</td>\n",
       "</tr>\n",
       "<tr>\n",
       "  <th>C(hr)[T.21]:C(day_of_week)[5]</th>         <td>    0.0910</td> <td>    0.009</td> <td>   10.527</td> <td> 0.000</td> <td>    0.074</td> <td>    0.108</td>\n",
       "</tr>\n",
       "<tr>\n",
       "  <th>C(hr)[T.22]:C(day_of_week)[5]</th>         <td>    0.1100</td> <td>    0.008</td> <td>   12.973</td> <td> 0.000</td> <td>    0.093</td> <td>    0.127</td>\n",
       "</tr>\n",
       "<tr>\n",
       "  <th>C(hr)[T.23]:C(day_of_week)[5]</th>         <td>    0.0783</td> <td>    0.008</td> <td>    9.399</td> <td> 0.000</td> <td>    0.062</td> <td>    0.095</td>\n",
       "</tr>\n",
       "<tr>\n",
       "  <th>C(hr)[T.1]:C(day_of_week)[6]</th>          <td>   -0.0404</td> <td>    0.009</td> <td>   -4.514</td> <td> 0.000</td> <td>   -0.058</td> <td>   -0.023</td>\n",
       "</tr>\n",
       "<tr>\n",
       "  <th>C(hr)[T.2]:C(day_of_week)[6]</th>          <td>   -0.1177</td> <td>    0.010</td> <td>  -12.277</td> <td> 0.000</td> <td>   -0.136</td> <td>   -0.099</td>\n",
       "</tr>\n",
       "<tr>\n",
       "  <th>C(hr)[T.3]:C(day_of_week)[6]</th>          <td>   -0.1493</td> <td>    0.010</td> <td>  -14.584</td> <td> 0.000</td> <td>   -0.169</td> <td>   -0.129</td>\n",
       "</tr>\n",
       "<tr>\n",
       "  <th>C(hr)[T.4]:C(day_of_week)[6]</th>          <td>   -0.1923</td> <td>    0.012</td> <td>  -16.289</td> <td> 0.000</td> <td>   -0.215</td> <td>   -0.169</td>\n",
       "</tr>\n",
       "<tr>\n",
       "  <th>C(hr)[T.5]:C(day_of_week)[6]</th>          <td>   -0.3030</td> <td>    0.017</td> <td>  -18.359</td> <td> 0.000</td> <td>   -0.335</td> <td>   -0.271</td>\n",
       "</tr>\n",
       "<tr>\n",
       "  <th>C(hr)[T.6]:C(day_of_week)[6]</th>          <td>   -0.3648</td> <td>    0.016</td> <td>  -23.074</td> <td> 0.000</td> <td>   -0.396</td> <td>   -0.334</td>\n",
       "</tr>\n",
       "<tr>\n",
       "  <th>C(hr)[T.7]:C(day_of_week)[6]</th>          <td>   -0.3151</td> <td>    0.014</td> <td>  -22.123</td> <td> 0.000</td> <td>   -0.343</td> <td>   -0.287</td>\n",
       "</tr>\n",
       "<tr>\n",
       "  <th>C(hr)[T.8]:C(day_of_week)[6]</th>          <td>   -0.2795</td> <td>    0.012</td> <td>  -23.148</td> <td> 0.000</td> <td>   -0.303</td> <td>   -0.256</td>\n",
       "</tr>\n",
       "<tr>\n",
       "  <th>C(hr)[T.9]:C(day_of_week)[6]</th>          <td>   -0.2290</td> <td>    0.011</td> <td>  -21.622</td> <td> 0.000</td> <td>   -0.250</td> <td>   -0.208</td>\n",
       "</tr>\n",
       "<tr>\n",
       "  <th>C(hr)[T.10]:C(day_of_week)[6]</th>         <td>   -0.1501</td> <td>    0.010</td> <td>  -15.674</td> <td> 0.000</td> <td>   -0.169</td> <td>   -0.131</td>\n",
       "</tr>\n",
       "<tr>\n",
       "  <th>C(hr)[T.11]:C(day_of_week)[6]</th>         <td>   -0.0767</td> <td>    0.009</td> <td>   -8.379</td> <td> 0.000</td> <td>   -0.095</td> <td>   -0.059</td>\n",
       "</tr>\n",
       "<tr>\n",
       "  <th>C(hr)[T.12]:C(day_of_week)[6]</th>         <td>   -0.0048</td> <td>    0.009</td> <td>   -0.527</td> <td> 0.598</td> <td>   -0.022</td> <td>    0.013</td>\n",
       "</tr>\n",
       "<tr>\n",
       "  <th>C(hr)[T.13]:C(day_of_week)[6]</th>         <td>    0.0489</td> <td>    0.009</td> <td>    5.441</td> <td> 0.000</td> <td>    0.031</td> <td>    0.066</td>\n",
       "</tr>\n",
       "<tr>\n",
       "  <th>C(hr)[T.14]:C(day_of_week)[6]</th>         <td>    0.0724</td> <td>    0.009</td> <td>    8.047</td> <td> 0.000</td> <td>    0.055</td> <td>    0.090</td>\n",
       "</tr>\n",
       "<tr>\n",
       "  <th>C(hr)[T.15]:C(day_of_week)[6]</th>         <td>    0.0840</td> <td>    0.009</td> <td>    9.244</td> <td> 0.000</td> <td>    0.066</td> <td>    0.102</td>\n",
       "</tr>\n",
       "<tr>\n",
       "  <th>C(hr)[T.16]:C(day_of_week)[6]</th>         <td>    0.0833</td> <td>    0.009</td> <td>    9.136</td> <td> 0.000</td> <td>    0.065</td> <td>    0.101</td>\n",
       "</tr>\n",
       "<tr>\n",
       "  <th>C(hr)[T.17]:C(day_of_week)[6]</th>         <td>    0.0830</td> <td>    0.009</td> <td>    9.301</td> <td> 0.000</td> <td>    0.066</td> <td>    0.100</td>\n",
       "</tr>\n",
       "<tr>\n",
       "  <th>C(hr)[T.18]:C(day_of_week)[6]</th>         <td>    0.0537</td> <td>    0.009</td> <td>    6.027</td> <td> 0.000</td> <td>    0.036</td> <td>    0.071</td>\n",
       "</tr>\n",
       "<tr>\n",
       "  <th>C(hr)[T.19]:C(day_of_week)[6]</th>         <td>   -0.0030</td> <td>    0.009</td> <td>   -0.323</td> <td> 0.747</td> <td>   -0.021</td> <td>    0.015</td>\n",
       "</tr>\n",
       "<tr>\n",
       "  <th>C(hr)[T.20]:C(day_of_week)[6]</th>         <td>   -0.0610</td> <td>    0.009</td> <td>   -6.474</td> <td> 0.000</td> <td>   -0.080</td> <td>   -0.043</td>\n",
       "</tr>\n",
       "<tr>\n",
       "  <th>C(hr)[T.21]:C(day_of_week)[6]</th>         <td>   -0.1161</td> <td>    0.010</td> <td>  -12.158</td> <td> 0.000</td> <td>   -0.135</td> <td>   -0.097</td>\n",
       "</tr>\n",
       "<tr>\n",
       "  <th>C(hr)[T.22]:C(day_of_week)[6]</th>         <td>   -0.1438</td> <td>    0.010</td> <td>  -14.558</td> <td> 0.000</td> <td>   -0.163</td> <td>   -0.124</td>\n",
       "</tr>\n",
       "<tr>\n",
       "  <th>C(hr)[T.23]:C(day_of_week)[6]</th>         <td>   -0.1903</td> <td>    0.011</td> <td>  -17.775</td> <td> 0.000</td> <td>   -0.211</td> <td>   -0.169</td>\n",
       "</tr>\n",
       "<tr>\n",
       "  <th>I(np.log(distance + 0.1))</th>             <td>    1.3017</td> <td>    0.006</td> <td>  205.117</td> <td> 0.000</td> <td>    1.289</td> <td>    1.314</td>\n",
       "</tr>\n",
       "<tr>\n",
       "  <th>I(np.log(dummy_manhattan_dist + 0.1))</th> <td>   -0.5499</td> <td>    0.006</td> <td>  -89.508</td> <td> 0.000</td> <td>   -0.562</td> <td>   -0.538</td>\n",
       "</tr>\n",
       "<tr>\n",
       "  <th>scale(bearing)</th>                        <td>    0.0422</td> <td>    0.001</td> <td>   69.800</td> <td> 0.000</td> <td>    0.041</td> <td>    0.043</td>\n",
       "</tr>\n",
       "<tr>\n",
       "  <th>dropoff_longitude</th>                     <td>   -0.8177</td> <td>    0.016</td> <td>  -51.780</td> <td> 0.000</td> <td>   -0.849</td> <td>   -0.787</td>\n",
       "</tr>\n",
       "<tr>\n",
       "  <th>dropoff_latitude</th>                      <td>   -1.2134</td> <td>    0.017</td> <td>  -70.962</td> <td> 0.000</td> <td>   -1.247</td> <td>   -1.180</td>\n",
       "</tr>\n",
       "</table>\n",
       "<table class=\"simpletable\">\n",
       "<tr>\n",
       "  <th>Omnibus:</th>       <td>368913.942</td> <th>  Durbin-Watson:     </th>   <td>   1.954</td>  \n",
       "</tr>\n",
       "<tr>\n",
       "  <th>Prob(Omnibus):</th>   <td> 0.000</td>   <th>  Jarque-Bera (JB):  </th> <td>18288681.339</td>\n",
       "</tr>\n",
       "<tr>\n",
       "  <th>Skew:</th>            <td> 1.808</td>   <th>  Prob(JB):          </th>   <td>    0.00</td>  \n",
       "</tr>\n",
       "<tr>\n",
       "  <th>Kurtosis:</th>        <td>27.746</td>   <th>  Cond. No.          </th>   <td>1.79e+15</td>  \n",
       "</tr>\n",
       "</table>"
      ],
      "text/plain": [
       "<class 'statsmodels.iolib.summary.Summary'>\n",
       "\"\"\"\n",
       "                               OLS Regression Results                               \n",
       "====================================================================================\n",
       "Dep. Variable:     I(np.log(trip_duration))   R-squared:                       0.650\n",
       "Model:                                  OLS   Adj. R-squared:                  0.650\n",
       "Method:                       Least Squares   F-statistic:                     7077.\n",
       "Date:                      Wed, 28 Mar 2018   Prob (F-statistic):               0.00\n",
       "Time:                              16:00:46   Log-Likelihood:            -4.6220e+05\n",
       "No. Observations:                    701778   AIC:                         9.248e+05\n",
       "Df Residuals:                        701593   BIC:                         9.269e+05\n",
       "Df Model:                               184                                         \n",
       "Covariance Type:                  nonrobust                                         \n",
       "=========================================================================================================\n",
       "                                            coef    std err          t      P>|t|      [0.025      0.975]\n",
       "---------------------------------------------------------------------------------------------------------\n",
       "Intercept                                -5.2914      1.401     -3.778      0.000      -8.037      -2.546\n",
       "C(pickup_Province)[T.Brooklyn]           -0.2281      0.020    -11.151      0.000      -0.268      -0.188\n",
       "C(pickup_Province)[T.Manhattan]          -0.1644      0.020     -8.238      0.000      -0.204      -0.125\n",
       "C(pickup_Province)[T.Queens]             -0.2763      0.020    -13.735      0.000      -0.316      -0.237\n",
       "C(pickup_Province)[T.Staten Island]       1.5133      0.094     16.142      0.000       1.330       1.697\n",
       "C(pickup_Province)[T.outward]            -0.3382      0.029    -11.781      0.000      -0.395      -0.282\n",
       "C(dropoff_Province)[T.Brooklyn]          -0.0258      0.008     -3.155      0.002      -0.042      -0.010\n",
       "C(dropoff_Province)[T.Manhattan]          0.0066      0.008      0.874      0.382      -0.008       0.021\n",
       "C(dropoff_Province)[T.Queens]            -0.0398      0.008     -5.043      0.000      -0.055      -0.024\n",
       "C(dropoff_Province)[T.Staten Island]     -0.3413      0.038     -9.025      0.000      -0.415      -0.267\n",
       "C(dropoff_Province)[T.outward]           -0.2479      0.012    -20.649      0.000      -0.271      -0.224\n",
       "C(vendor_id)[T.2]                         0.0219      0.001     19.577      0.000       0.020       0.024\n",
       "C(rest_day)[T.True]                      -0.0911      0.003    -27.181      0.000      -0.098      -0.085\n",
       "C(weekend)[T.True]                        0.2293      0.008     29.621      0.000       0.214       0.244\n",
       "C(day_of_week)[T.1]                       0.0427      0.015      2.888      0.004       0.014       0.072\n",
       "C(day_of_week)[T.2]                       0.0712      0.014      5.011      0.000       0.043       0.099\n",
       "C(day_of_week)[T.3]                       0.0803      0.014      5.867      0.000       0.053       0.107\n",
       "C(day_of_week)[T.4]                       0.1708      0.013     13.490      0.000       0.146       0.196\n",
       "C(day_of_week)[T.5]                       0.1164      0.006     20.173      0.000       0.105       0.128\n",
       "C(day_of_week)[T.6]                       0.1128      0.006     19.432      0.000       0.101       0.124\n",
       "C(hr)[T.1]:C(day_of_week)[0]             -0.0282      0.017     -1.625      0.104      -0.062       0.006\n",
       "C(hr)[T.2]:C(day_of_week)[0]             -0.0057      0.020     -0.280      0.779      -0.046       0.034\n",
       "C(hr)[T.3]:C(day_of_week)[0]              0.0117      0.023      0.507      0.612      -0.033       0.057\n",
       "C(hr)[T.4]:C(day_of_week)[0]             -0.0779      0.022     -3.570      0.000      -0.121      -0.035\n",
       "C(hr)[T.5]:C(day_of_week)[0]             -0.0932      0.018     -5.106      0.000      -0.129      -0.057\n",
       "C(hr)[T.6]:C(day_of_week)[0]             -0.0028      0.014     -0.203      0.839      -0.030       0.025\n",
       "C(hr)[T.7]:C(day_of_week)[0]              0.2483      0.013     19.539      0.000       0.223       0.273\n",
       "C(hr)[T.8]:C(day_of_week)[0]              0.4403      0.012     35.617      0.000       0.416       0.464\n",
       "C(hr)[T.9]:C(day_of_week)[0]              0.4869      0.012     39.310      0.000       0.463       0.511\n",
       "C(hr)[T.10]:C(day_of_week)[0]             0.4849      0.013     38.033      0.000       0.460       0.510\n",
       "C(hr)[T.11]:C(day_of_week)[0]             0.4761      0.013     37.521      0.000       0.451       0.501\n",
       "C(hr)[T.12]:C(day_of_week)[0]             0.4690      0.013     37.185      0.000       0.444       0.494\n",
       "C(hr)[T.13]:C(day_of_week)[0]             0.4311      0.013     34.083      0.000       0.406       0.456\n",
       "C(hr)[T.14]:C(day_of_week)[0]             0.4374      0.012     35.142      0.000       0.413       0.462\n",
       "C(hr)[T.15]:C(day_of_week)[0]             0.4531      0.012     36.251      0.000       0.429       0.478\n",
       "C(hr)[T.16]:C(day_of_week)[0]             0.4030      0.013     31.901      0.000       0.378       0.428\n",
       "C(hr)[T.17]:C(day_of_week)[0]             0.4090      0.012     33.230      0.000       0.385       0.433\n",
       "C(hr)[T.18]:C(day_of_week)[0]             0.3786      0.012     31.616      0.000       0.355       0.402\n",
       "C(hr)[T.19]:C(day_of_week)[0]             0.2559      0.012     21.201      0.000       0.232       0.280\n",
       "C(hr)[T.20]:C(day_of_week)[0]             0.1809      0.012     14.819      0.000       0.157       0.205\n",
       "C(hr)[T.21]:C(day_of_week)[0]             0.1493      0.012     12.157      0.000       0.125       0.173\n",
       "C(hr)[T.22]:C(day_of_week)[0]             0.1344      0.013     10.671      0.000       0.110       0.159\n",
       "C(hr)[T.23]:C(day_of_week)[0]             0.0773      0.013      5.784      0.000       0.051       0.103\n",
       "C(hr)[T.1]:C(day_of_week)[1]             -0.0420      0.017     -2.429      0.015      -0.076      -0.008\n",
       "C(hr)[T.2]:C(day_of_week)[1]             -0.0563      0.021     -2.714      0.007      -0.097      -0.016\n",
       "C(hr)[T.3]:C(day_of_week)[1]             -0.0997      0.025     -4.052      0.000      -0.148      -0.051\n",
       "C(hr)[T.4]:C(day_of_week)[1]             -0.1458      0.023     -6.295      0.000      -0.191      -0.100\n",
       "C(hr)[T.5]:C(day_of_week)[1]             -0.1678      0.018     -9.209      0.000      -0.204      -0.132\n",
       "C(hr)[T.6]:C(day_of_week)[1]             -0.0305      0.014     -2.205      0.027      -0.058      -0.003\n",
       "C(hr)[T.7]:C(day_of_week)[1]              0.2442      0.012     19.565      0.000       0.220       0.269\n",
       "C(hr)[T.8]:C(day_of_week)[1]              0.4598      0.012     37.612      0.000       0.436       0.484\n",
       "C(hr)[T.9]:C(day_of_week)[1]              0.5251      0.012     42.582      0.000       0.501       0.549\n",
       "C(hr)[T.10]:C(day_of_week)[1]             0.5362      0.013     42.572      0.000       0.512       0.561\n",
       "C(hr)[T.11]:C(day_of_week)[1]             0.5500      0.013     43.755      0.000       0.525       0.575\n",
       "C(hr)[T.12]:C(day_of_week)[1]             0.5367      0.013     42.808      0.000       0.512       0.561\n",
       "C(hr)[T.13]:C(day_of_week)[1]             0.5149      0.013     41.075      0.000       0.490       0.539\n",
       "C(hr)[T.14]:C(day_of_week)[1]             0.5009      0.012     40.404      0.000       0.477       0.525\n",
       "C(hr)[T.15]:C(day_of_week)[1]             0.4874      0.012     39.101      0.000       0.463       0.512\n",
       "C(hr)[T.16]:C(day_of_week)[1]             0.4536      0.013     35.716      0.000       0.429       0.478\n",
       "C(hr)[T.17]:C(day_of_week)[1]             0.4493      0.012     36.483      0.000       0.425       0.473\n",
       "C(hr)[T.18]:C(day_of_week)[1]             0.4204      0.012     35.035      0.000       0.397       0.444\n",
       "C(hr)[T.19]:C(day_of_week)[1]             0.2837      0.012     23.608      0.000       0.260       0.307\n",
       "C(hr)[T.20]:C(day_of_week)[1]             0.1942      0.012     16.121      0.000       0.171       0.218\n",
       "C(hr)[T.21]:C(day_of_week)[1]             0.1606      0.012     13.286      0.000       0.137       0.184\n",
       "C(hr)[T.22]:C(day_of_week)[1]             0.1513      0.012     12.341      0.000       0.127       0.175\n",
       "C(hr)[T.23]:C(day_of_week)[1]             0.0636      0.013      4.957      0.000       0.038       0.089\n",
       "C(hr)[T.1]:C(day_of_week)[2]             -0.0761      0.016     -4.810      0.000      -0.107      -0.045\n",
       "C(hr)[T.2]:C(day_of_week)[2]             -0.1007      0.018     -5.500      0.000      -0.137      -0.065\n",
       "C(hr)[T.3]:C(day_of_week)[2]             -0.1191      0.021     -5.572      0.000      -0.161      -0.077\n",
       "C(hr)[T.4]:C(day_of_week)[2]             -0.1595      0.022     -7.238      0.000      -0.203      -0.116\n",
       "C(hr)[T.5]:C(day_of_week)[2]             -0.1958      0.018    -11.104      0.000      -0.230      -0.161\n",
       "C(hr)[T.6]:C(day_of_week)[2]             -0.0716      0.013     -5.428      0.000      -0.098      -0.046\n",
       "C(hr)[T.7]:C(day_of_week)[2]              0.2230      0.012     19.026      0.000       0.200       0.246\n",
       "C(hr)[T.8]:C(day_of_week)[2]              0.4144      0.011     36.227      0.000       0.392       0.437\n",
       "C(hr)[T.9]:C(day_of_week)[2]              0.4827      0.012     41.454      0.000       0.460       0.505\n",
       "C(hr)[T.10]:C(day_of_week)[2]             0.4970      0.012     41.937      0.000       0.474       0.520\n",
       "C(hr)[T.11]:C(day_of_week)[2]             0.5295      0.012     44.540      0.000       0.506       0.553\n",
       "C(hr)[T.12]:C(day_of_week)[2]             0.5247      0.012     44.611      0.000       0.502       0.548\n",
       "C(hr)[T.13]:C(day_of_week)[2]             0.5077      0.012     43.054      0.000       0.485       0.531\n",
       "C(hr)[T.14]:C(day_of_week)[2]             0.4866      0.012     41.646      0.000       0.464       0.510\n",
       "C(hr)[T.15]:C(day_of_week)[2]             0.4779      0.012     40.642      0.000       0.455       0.501\n",
       "C(hr)[T.16]:C(day_of_week)[2]             0.4107      0.012     34.298      0.000       0.387       0.434\n",
       "C(hr)[T.17]:C(day_of_week)[2]             0.4394      0.012     37.845      0.000       0.417       0.462\n",
       "C(hr)[T.18]:C(day_of_week)[2]             0.3972      0.011     35.240      0.000       0.375       0.419\n",
       "C(hr)[T.19]:C(day_of_week)[2]             0.2893      0.011     25.681      0.000       0.267       0.311\n",
       "C(hr)[T.20]:C(day_of_week)[2]             0.1997      0.011     17.692      0.000       0.178       0.222\n",
       "C(hr)[T.21]:C(day_of_week)[2]             0.1607      0.011     14.236      0.000       0.139       0.183\n",
       "C(hr)[T.22]:C(day_of_week)[2]             0.1442      0.011     12.597      0.000       0.122       0.167\n",
       "C(hr)[T.23]:C(day_of_week)[2]             0.0906      0.012      7.594      0.000       0.067       0.114\n",
       "C(hr)[T.1]:C(day_of_week)[3]             -0.0617      0.015     -4.255      0.000      -0.090      -0.033\n",
       "C(hr)[T.2]:C(day_of_week)[3]             -0.0925      0.017     -5.325      0.000      -0.127      -0.058\n",
       "C(hr)[T.3]:C(day_of_week)[3]             -0.1320      0.020     -6.695      0.000      -0.171      -0.093\n",
       "C(hr)[T.4]:C(day_of_week)[3]             -0.1645      0.020     -8.037      0.000      -0.205      -0.124\n",
       "C(hr)[T.5]:C(day_of_week)[3]             -0.1934      0.017    -11.422      0.000      -0.227      -0.160\n",
       "C(hr)[T.6]:C(day_of_week)[3]             -0.0710      0.013     -5.666      0.000      -0.096      -0.046\n",
       "C(hr)[T.7]:C(day_of_week)[3]              0.2126      0.011     19.188      0.000       0.191       0.234\n",
       "C(hr)[T.8]:C(day_of_week)[3]              0.4278      0.011     39.562      0.000       0.407       0.449\n",
       "C(hr)[T.9]:C(day_of_week)[3]              0.4758      0.011     43.238      0.000       0.454       0.497\n",
       "C(hr)[T.10]:C(day_of_week)[3]             0.4822      0.011     43.122      0.000       0.460       0.504\n",
       "C(hr)[T.11]:C(day_of_week)[3]             0.5134      0.011     45.969      0.000       0.491       0.535\n",
       "C(hr)[T.12]:C(day_of_week)[3]             0.5123      0.011     46.214      0.000       0.491       0.534\n",
       "C(hr)[T.13]:C(day_of_week)[3]             0.4718      0.011     42.396      0.000       0.450       0.494\n",
       "C(hr)[T.14]:C(day_of_week)[3]             0.4902      0.011     44.719      0.000       0.469       0.512\n",
       "C(hr)[T.15]:C(day_of_week)[3]             0.4787      0.011     43.357      0.000       0.457       0.500\n",
       "C(hr)[T.16]:C(day_of_week)[3]             0.4320      0.011     37.869      0.000       0.410       0.454\n",
       "C(hr)[T.17]:C(day_of_week)[3]             0.4096      0.011     37.276      0.000       0.388       0.431\n",
       "C(hr)[T.18]:C(day_of_week)[3]             0.4101      0.011     38.802      0.000       0.389       0.431\n",
       "C(hr)[T.19]:C(day_of_week)[3]             0.3175      0.011     30.107      0.000       0.297       0.338\n",
       "C(hr)[T.20]:C(day_of_week)[3]             0.2381      0.011     22.525      0.000       0.217       0.259\n",
       "C(hr)[T.21]:C(day_of_week)[3]             0.1989      0.011     18.902      0.000       0.178       0.220\n",
       "C(hr)[T.22]:C(day_of_week)[3]             0.1894      0.011     17.842      0.000       0.169       0.210\n",
       "C(hr)[T.23]:C(day_of_week)[3]             0.1280      0.011     11.796      0.000       0.107       0.149\n",
       "C(hr)[T.1]:C(day_of_week)[4]             -0.0334      0.011     -2.940      0.003      -0.056      -0.011\n",
       "C(hr)[T.2]:C(day_of_week)[4]             -0.0774      0.013     -6.100      0.000      -0.102      -0.053\n",
       "C(hr)[T.3]:C(day_of_week)[4]             -0.0883      0.014     -6.302      0.000      -0.116      -0.061\n",
       "C(hr)[T.4]:C(day_of_week)[4]             -0.1411      0.016     -9.050      0.000      -0.172      -0.111\n",
       "C(hr)[T.5]:C(day_of_week)[4]             -0.2453      0.015    -16.022      0.000      -0.275      -0.215\n",
       "C(hr)[T.6]:C(day_of_week)[4]             -0.1582      0.011    -13.775      0.000      -0.181      -0.136\n",
       "C(hr)[T.7]:C(day_of_week)[4]              0.1041      0.010     10.599      0.000       0.085       0.123\n",
       "C(hr)[T.8]:C(day_of_week)[4]              0.3042      0.010     31.860      0.000       0.286       0.323\n",
       "C(hr)[T.9]:C(day_of_week)[4]              0.3572      0.010     36.940      0.000       0.338       0.376\n",
       "C(hr)[T.10]:C(day_of_week)[4]             0.3585      0.010     36.078      0.000       0.339       0.378\n",
       "C(hr)[T.11]:C(day_of_week)[4]             0.3617      0.010     36.637      0.000       0.342       0.381\n",
       "C(hr)[T.12]:C(day_of_week)[4]             0.3478      0.010     35.750      0.000       0.329       0.367\n",
       "C(hr)[T.13]:C(day_of_week)[4]             0.2917      0.010     29.991      0.000       0.273       0.311\n",
       "C(hr)[T.14]:C(day_of_week)[4]             0.3307      0.010     34.635      0.000       0.312       0.349\n",
       "C(hr)[T.15]:C(day_of_week)[4]             0.3664      0.010     37.829      0.000       0.347       0.385\n",
       "C(hr)[T.16]:C(day_of_week)[4]             0.3094      0.010     30.950      0.000       0.290       0.329\n",
       "C(hr)[T.17]:C(day_of_week)[4]             0.2928      0.010     30.763      0.000       0.274       0.311\n",
       "C(hr)[T.18]:C(day_of_week)[4]             0.2890      0.009     31.694      0.000       0.271       0.307\n",
       "C(hr)[T.19]:C(day_of_week)[4]             0.2456      0.009     27.130      0.000       0.228       0.263\n",
       "C(hr)[T.20]:C(day_of_week)[4]             0.1866      0.009     20.255      0.000       0.169       0.205\n",
       "C(hr)[T.21]:C(day_of_week)[4]             0.1561      0.009     16.855      0.000       0.138       0.174\n",
       "C(hr)[T.22]:C(day_of_week)[4]             0.1752      0.009     19.057      0.000       0.157       0.193\n",
       "C(hr)[T.23]:C(day_of_week)[4]             0.1682      0.009     18.261      0.000       0.150       0.186\n",
       "C(hr)[T.1]:C(day_of_week)[5]             -0.0723      0.009     -8.079      0.000      -0.090      -0.055\n",
       "C(hr)[T.2]:C(day_of_week)[5]             -0.1059      0.009    -11.206      0.000      -0.124      -0.087\n",
       "C(hr)[T.3]:C(day_of_week)[5]             -0.1599      0.010    -15.266      0.000      -0.180      -0.139\n",
       "C(hr)[T.4]:C(day_of_week)[5]             -0.1871      0.012    -15.151      0.000      -0.211      -0.163\n",
       "C(hr)[T.5]:C(day_of_week)[5]             -0.3233      0.016    -19.702      0.000      -0.355      -0.291\n",
       "C(hr)[T.6]:C(day_of_week)[5]             -0.3656      0.015    -24.959      0.000      -0.394      -0.337\n",
       "C(hr)[T.7]:C(day_of_week)[5]             -0.2820      0.013    -22.291      0.000      -0.307      -0.257\n",
       "C(hr)[T.8]:C(day_of_week)[5]             -0.1856      0.011    -17.058      0.000      -0.207      -0.164\n",
       "C(hr)[T.9]:C(day_of_week)[5]             -0.1127      0.010    -11.706      0.000      -0.132      -0.094\n",
       "C(hr)[T.10]:C(day_of_week)[5]            -0.0549      0.009     -6.017      0.000      -0.073      -0.037\n",
       "C(hr)[T.11]:C(day_of_week)[5]             0.0175      0.009      1.957      0.050   -2.38e-05       0.035\n",
       "C(hr)[T.12]:C(day_of_week)[5]             0.0650      0.009      7.483      0.000       0.048       0.082\n",
       "C(hr)[T.13]:C(day_of_week)[5]             0.1250      0.009     14.386      0.000       0.108       0.142\n",
       "C(hr)[T.14]:C(day_of_week)[5]             0.1073      0.009     12.238      0.000       0.090       0.124\n",
       "C(hr)[T.15]:C(day_of_week)[5]             0.1185      0.009     13.554      0.000       0.101       0.136\n",
       "C(hr)[T.16]:C(day_of_week)[5]             0.1209      0.009     13.557      0.000       0.103       0.138\n",
       "C(hr)[T.17]:C(day_of_week)[5]             0.1398      0.009     16.211      0.000       0.123       0.157\n",
       "C(hr)[T.18]:C(day_of_week)[5]             0.1625      0.008     19.375      0.000       0.146       0.179\n",
       "C(hr)[T.19]:C(day_of_week)[5]             0.1943      0.008     23.266      0.000       0.178       0.211\n",
       "C(hr)[T.20]:C(day_of_week)[5]             0.1263      0.009     14.547      0.000       0.109       0.143\n",
       "C(hr)[T.21]:C(day_of_week)[5]             0.0910      0.009     10.527      0.000       0.074       0.108\n",
       "C(hr)[T.22]:C(day_of_week)[5]             0.1100      0.008     12.973      0.000       0.093       0.127\n",
       "C(hr)[T.23]:C(day_of_week)[5]             0.0783      0.008      9.399      0.000       0.062       0.095\n",
       "C(hr)[T.1]:C(day_of_week)[6]             -0.0404      0.009     -4.514      0.000      -0.058      -0.023\n",
       "C(hr)[T.2]:C(day_of_week)[6]             -0.1177      0.010    -12.277      0.000      -0.136      -0.099\n",
       "C(hr)[T.3]:C(day_of_week)[6]             -0.1493      0.010    -14.584      0.000      -0.169      -0.129\n",
       "C(hr)[T.4]:C(day_of_week)[6]             -0.1923      0.012    -16.289      0.000      -0.215      -0.169\n",
       "C(hr)[T.5]:C(day_of_week)[6]             -0.3030      0.017    -18.359      0.000      -0.335      -0.271\n",
       "C(hr)[T.6]:C(day_of_week)[6]             -0.3648      0.016    -23.074      0.000      -0.396      -0.334\n",
       "C(hr)[T.7]:C(day_of_week)[6]             -0.3151      0.014    -22.123      0.000      -0.343      -0.287\n",
       "C(hr)[T.8]:C(day_of_week)[6]             -0.2795      0.012    -23.148      0.000      -0.303      -0.256\n",
       "C(hr)[T.9]:C(day_of_week)[6]             -0.2290      0.011    -21.622      0.000      -0.250      -0.208\n",
       "C(hr)[T.10]:C(day_of_week)[6]            -0.1501      0.010    -15.674      0.000      -0.169      -0.131\n",
       "C(hr)[T.11]:C(day_of_week)[6]            -0.0767      0.009     -8.379      0.000      -0.095      -0.059\n",
       "C(hr)[T.12]:C(day_of_week)[6]            -0.0048      0.009     -0.527      0.598      -0.022       0.013\n",
       "C(hr)[T.13]:C(day_of_week)[6]             0.0489      0.009      5.441      0.000       0.031       0.066\n",
       "C(hr)[T.14]:C(day_of_week)[6]             0.0724      0.009      8.047      0.000       0.055       0.090\n",
       "C(hr)[T.15]:C(day_of_week)[6]             0.0840      0.009      9.244      0.000       0.066       0.102\n",
       "C(hr)[T.16]:C(day_of_week)[6]             0.0833      0.009      9.136      0.000       0.065       0.101\n",
       "C(hr)[T.17]:C(day_of_week)[6]             0.0830      0.009      9.301      0.000       0.066       0.100\n",
       "C(hr)[T.18]:C(day_of_week)[6]             0.0537      0.009      6.027      0.000       0.036       0.071\n",
       "C(hr)[T.19]:C(day_of_week)[6]            -0.0030      0.009     -0.323      0.747      -0.021       0.015\n",
       "C(hr)[T.20]:C(day_of_week)[6]            -0.0610      0.009     -6.474      0.000      -0.080      -0.043\n",
       "C(hr)[T.21]:C(day_of_week)[6]            -0.1161      0.010    -12.158      0.000      -0.135      -0.097\n",
       "C(hr)[T.22]:C(day_of_week)[6]            -0.1438      0.010    -14.558      0.000      -0.163      -0.124\n",
       "C(hr)[T.23]:C(day_of_week)[6]            -0.1903      0.011    -17.775      0.000      -0.211      -0.169\n",
       "I(np.log(distance + 0.1))                 1.3017      0.006    205.117      0.000       1.289       1.314\n",
       "I(np.log(dummy_manhattan_dist + 0.1))    -0.5499      0.006    -89.508      0.000      -0.562      -0.538\n",
       "scale(bearing)                            0.0422      0.001     69.800      0.000       0.041       0.043\n",
       "dropoff_longitude                        -0.8177      0.016    -51.780      0.000      -0.849      -0.787\n",
       "dropoff_latitude                         -1.2134      0.017    -70.962      0.000      -1.247      -1.180\n",
       "==============================================================================\n",
       "Omnibus:                   368913.942   Durbin-Watson:                   1.954\n",
       "Prob(Omnibus):                  0.000   Jarque-Bera (JB):         18288681.339\n",
       "Skew:                           1.808   Prob(JB):                         0.00\n",
       "Kurtosis:                      27.746   Cond. No.                     1.79e+15\n",
       "==============================================================================\n",
       "\n",
       "Warnings:\n",
       "[1] Standard Errors assume that the covariance matrix of the errors is correctly specified.\n",
       "[2] The smallest eigenvalue is 1.56e-21. This might indicate that there are\n",
       "strong multicollinearity problems or that the design matrix is singular.\n",
       "\"\"\""
      ]
     },
     "execution_count": 7,
     "metadata": {},
     "output_type": "execute_result"
    }
   ],
   "source": [
    "formulaIs = 'I(np.log(trip_duration)) ~ I(np.log(distance+0.1)) +I(np.log(dummy_manhattan_dist+0.1)) +scale(bearing)+ C(pickup_Province) +C(dropoff_Province)+C(hr):C(day_of_week)+scale(bearing) + C(vendor_id) +dropoff_longitude+dropoff_latitude+C(rest_day)+C(weekend)'\n",
    "fList = ['distance','dummy_manhattan_dist','bearing','pickup_Province','dropoff_Province','hr','day_of_week', 'vendor_id', 'dropoff_longitude', 'dropoff_latitude', 'rest_day', 'weekend']\n",
    "modelFinal = sm.OLS.from_formula(formulaIs, data=train)\n",
    "result = modelFinal.fit()\n",
    "result.summary()"
   ]
  },
  {
   "cell_type": "code",
   "execution_count": 8,
   "metadata": {},
   "outputs": [
    {
     "data": {
      "text/plain": [
       "<matplotlib.collections.PathCollection at 0x1267084e0>"
      ]
     },
     "execution_count": 8,
     "metadata": {},
     "output_type": "execute_result"
    },
    {
     "data": {
      "image/png": "[encoded data removed]",
      "text/plain": [
       "<Figure size 432x288 with 1 Axes>"
      ]
     },
     "metadata": {},
     "output_type": "display_data"
    }
   ],
   "source": [
    "y_new = result.predict(train[fList])\n",
    "y = train.apply(lambda x:np.log(x.trip_duration),axis=1)\n",
    "plt.scatter(y,y_new)"
   ]
  },
  {
   "cell_type": "markdown",
   "metadata": {},
   "source": [
    "#### Cross Validation을 통한 모델 검증"
   ]
  },
  {
   "cell_type": "code",
   "execution_count": 9,
   "metadata": {},
   "outputs": [],
   "source": [
    "cv = KFold(n_splits=5, shuffle=True, random_state=0)"
   ]
  },
  {
   "cell_type": "code",
   "execution_count": 10,
   "metadata": {},
   "outputs": [
    {
     "name": "stdout",
     "output_type": "stream",
     "text": [
      "741692.083700228, 743771.1559042571, -370661.041850114, 0.6488989717223622, 0.6487838642201785, 2251799813685536.0\n"
     ]
    },
    {
     "ename": "NameError",
     "evalue": "name 'rmsle' is not defined",
     "output_type": "error",
     "traceback": [
      "\u001b[0;31m---------------------------------------------------------------------------\u001b[0m",
      "\u001b[0;31mNameError\u001b[0m                                 Traceback (most recent call last)",
      "\u001b[0;32m<ipython-input-10-6f57b55deb63>\u001b[0m in \u001b[0;36m<module>\u001b[0;34m()\u001b[0m\n\u001b[1;32m      8\u001b[0m     \u001b[0myc_new\u001b[0m \u001b[0;34m=\u001b[0m \u001b[0mresultc\u001b[0m\u001b[0;34m.\u001b[0m\u001b[0mpredict\u001b[0m\u001b[0;34m(\u001b[0m\u001b[0mcTest\u001b[0m\u001b[0;34m[\u001b[0m\u001b[0mfList\u001b[0m\u001b[0;34m]\u001b[0m\u001b[0;34m)\u001b[0m\u001b[0;34m\u001b[0m\u001b[0m\n\u001b[1;32m      9\u001b[0m     \u001b[0myc_newis\u001b[0m \u001b[0;34m=\u001b[0m \u001b[0mnp\u001b[0m\u001b[0;34m.\u001b[0m\u001b[0mexp\u001b[0m\u001b[0;34m(\u001b[0m\u001b[0myc_new\u001b[0m\u001b[0;34m)\u001b[0m\u001b[0;34m\u001b[0m\u001b[0m\n\u001b[0;32m---> 10\u001b[0;31m     \u001b[0mrmsleIs\u001b[0m \u001b[0;34m=\u001b[0m \u001b[0mrmsle\u001b[0m\u001b[0;34m(\u001b[0m\u001b[0mcTest\u001b[0m\u001b[0;34m[\u001b[0m\u001b[0;34m'trip_duration'\u001b[0m\u001b[0;34m]\u001b[0m\u001b[0;34m,\u001b[0m\u001b[0myc_newis\u001b[0m\u001b[0;34m)\u001b[0m\u001b[0;34m\u001b[0m\u001b[0m\n\u001b[0m\u001b[1;32m     11\u001b[0m     \u001b[0mprint\u001b[0m \u001b[0;34m(\u001b[0m\u001b[0mrmsleIs\u001b[0m\u001b[0;34m)\u001b[0m\u001b[0;34m\u001b[0m\u001b[0m\n\u001b[1;32m     12\u001b[0m     \u001b[0myc\u001b[0m \u001b[0;34m=\u001b[0m \u001b[0mtrain\u001b[0m\u001b[0;34m.\u001b[0m\u001b[0mloc\u001b[0m\u001b[0;34m[\u001b[0m\u001b[0mtest_index\u001b[0m\u001b[0;34m]\u001b[0m\u001b[0;34m.\u001b[0m\u001b[0mapply\u001b[0m\u001b[0;34m(\u001b[0m\u001b[0;32mlambda\u001b[0m \u001b[0mx\u001b[0m\u001b[0;34m:\u001b[0m\u001b[0mnp\u001b[0m\u001b[0;34m.\u001b[0m\u001b[0mlog\u001b[0m\u001b[0;34m(\u001b[0m\u001b[0mx\u001b[0m\u001b[0;34m.\u001b[0m\u001b[0mtrip_duration\u001b[0m\u001b[0;34m)\u001b[0m\u001b[0;34m,\u001b[0m\u001b[0maxis\u001b[0m\u001b[0;34m=\u001b[0m\u001b[0;36m1\u001b[0m\u001b[0;34m)\u001b[0m\u001b[0;34m\u001b[0m\u001b[0m\n",
      "\u001b[0;31mNameError\u001b[0m: name 'rmsle' is not defined"
     ]
    }
   ],
   "source": [
    "for train_index, test_index in cv.split(train):\n",
    "    cTrainDe = train.loc[train_index][fList+['trip_duration']]\n",
    "    modelc = sm.OLS.from_formula(formulaIs,cTrainDe)\n",
    "    resultc = modelc.fit()\n",
    "    x = '{}, {}, {}, {}, {}, {}'.format(resultc.aic,resultc.bic,resultc.llf, resultc.rsquared, resultc.rsquared_adj, resultc.condition_number)\n",
    "    print (x)\n",
    "    cTest = train.loc[test_index][fList+['trip_duration']]\n",
    "    yc_new = resultc.predict(cTest[fList])\n",
    "    yc_newis = np.exp(yc_new)\n",
    "    rmsleIs = rmsle(cTest['trip_duration'],yc_newis)\n",
    "    print (rmsleIs)\n",
    "    yc = train.loc[test_index].apply(lambda x:np.log(x.trip_duration),axis=1)\n",
    "    plt.scatter(yc,yc_new) "
   ]
  },
  {
   "cell_type": "markdown",
   "metadata": {},
   "source": [
    "#### 종속변수에 대한 독립변수의 영향도를 F 검정을 사용하여 비교"
   ]
  },
  {
   "cell_type": "code",
   "execution_count": null,
   "metadata": {
    "scrolled": false
   },
   "outputs": [],
   "source": [
    "sm.stats.anova_lm(result,typ =2)"
   ]
  },
  {
   "cell_type": "markdown",
   "metadata": {},
   "source": [
    "#### 잔차의 정규성을 확인"
   ]
  },
  {
   "cell_type": "code",
   "execution_count": null,
   "metadata": {
    "scrolled": true
   },
   "outputs": [],
   "source": [
    "sp.stats.probplot(result.resid, plot=plt)\n",
    "plt.show()"
   ]
  },
  {
   "cell_type": "markdown",
   "metadata": {},
   "source": [
    "* 정규성 검정을 통해 확인"
   ]
  },
  {
   "cell_type": "code",
   "execution_count": null,
   "metadata": {},
   "outputs": [],
   "source": [
    "test = sms.omni_normtest(result.resid)\n",
    "for xi in zip(['Chi^2', 'P-value'], test):\n",
    "    print (\"%-10s: %6.3f \" % xi)"
   ]
  },
  {
   "cell_type": "code",
   "execution_count": null,
   "metadata": {
    "scrolled": true
   },
   "outputs": [],
   "source": [
    "test = sms.jarque_bera(result.resid)\n",
    "for xi in zip(['Jarque-Bera', 'P-value', 'Skew', 'Kurtosis'], test):\n",
    "    print(\"%-12s: %6.3f\" % xi)"
   ]
  },
  {
   "cell_type": "markdown",
   "metadata": {},
   "source": [
    "#### 잔차와 독립변수의 관계 확인\n",
    "* 이분산성"
   ]
  },
  {
   "cell_type": "code",
   "execution_count": null,
   "metadata": {
    "scrolled": false
   },
   "outputs": [],
   "source": [
    "fig = plt.figure(figsize=(10,10))\n",
    "plt.scatter(result.predict(),result.resid)\n",
    "plt.show()"
   ]
  },
  {
   "cell_type": "markdown",
   "metadata": {},
   "source": [
    "* 종속변수를 log-transform을 하였는데 이분산성이 나타나는 것을 확인함."
   ]
  },
  {
   "cell_type": "markdown",
   "metadata": {},
   "source": [
    "#### 자기 상관 계수 확인\n",
    "* 오차가 독립인지를 검정"
   ]
  },
  {
   "cell_type": "code",
   "execution_count": null,
   "metadata": {
    "scrolled": true
   },
   "outputs": [],
   "source": [
    "print (stools.durbin_watson(result.resid))"
   ]
  },
  {
   "cell_type": "markdown",
   "metadata": {},
   "source": [
    "#### 모델 결과\n",
    "* R-square : 0.65\n",
    "* Adj. R-squared : 0.645\n",
    "* F-statistic:\t7053.\n",
    "* Prob (F-statistic) : 0.00\n",
    "* Log-Likelihood : -4.6671e+05\n",
    "* AIC :\t9.338e+05\n",
    "* BIC :\t9.359e+05\n",
    "* condition Number : 417"
   ]
  },
  {
   "cell_type": "markdown",
   "metadata": {},
   "source": [
    "##### Root Mean Squared Logarithmic Error (RMSLE)"
   ]
  },
  {
   "cell_type": "code",
   "execution_count": null,
   "metadata": {},
   "outputs": [],
   "source": [
    "def rmsle(y, y0):\n",
    "    assert len(y) == len(y0)\n",
    "    return np.sqrt(np.mean(np.power(np.log1p(y)-np.log1p(y0), 2)))"
   ]
  },
  {
   "cell_type": "code",
   "execution_count": null,
   "metadata": {},
   "outputs": [],
   "source": [
    "y_newis = np.exp(y_new)\n",
    "rmsle(train['trip_duration'],y_newis)"
   ]
  },
  {
   "cell_type": "markdown",
   "metadata": {},
   "source": [
    "#### Leverage & Outlier"
   ]
  },
  {
   "cell_type": "code",
   "execution_count": null,
   "metadata": {},
   "outputs": [],
   "source": [
    "inf = result.get_influence()\n",
    "hat = inf.hat_matrix_diag\n",
    "print('hat.sum() =',hat.sum())\n",
    "x_new = train[fList]\n",
    "y_new = result.predict()"
   ]
  },
  {
   "cell_type": "markdown",
   "metadata": {},
   "source": [
    "* Fox recommentation 기준 Outlier 선정"
   ]
  },
  {
   "cell_type": "code",
   "execution_count": null,
   "metadata": {
    "scrolled": false
   },
   "outputs": [],
   "source": [
    "cooks_d2, pvals = inf.cooks_distance\n",
    "fox_cr = 4 / (len(train['trip_duration']) - 182)\n",
    "idx = np.where(cooks_d2 > fox_cr)[0]\n",
    "ax = plt.subplot()\n",
    "plt.scatter(y_new,train['trip_duration'])\n",
    "plt.scatter(y_new[idx], train['trip_duration'][idx], s=300, c=\"r\", alpha=0.5)\n",
    "utils.annotate_axes(range(len(idx)), idx, \n",
    "                    list(zip(y_new[idx], train['trip_duration'][idx])), [(-20, 15)] * len(idx), size=\"small\", ax=ax)\n",
    "plt.show()\n",
    "len(idx)"
   ]
  },
  {
   "cell_type": "markdown",
   "metadata": {},
   "source": [
    "* Fox Recommendation을 통해 21868개의 데이터가 outlier로 선정되었고, 이를 제거하고 추가 분석을 실시"
   ]
  },
  {
   "cell_type": "code",
   "execution_count": null,
   "metadata": {},
   "outputs": [],
   "source": [
    "filter_X =train[:]\n",
    "filter_X.drop(idx,0,inplace = True)\n",
    "\n",
    "filter_X.tail()\n",
    "print (train.shape)\n",
    "print (filter_X.shape)"
   ]
  },
  {
   "cell_type": "code",
   "execution_count": null,
   "metadata": {
    "scrolled": false
   },
   "outputs": [],
   "source": [
    "modela = sm.OLS.from_formula(formulaIs,data = filter_X)\n",
    "resulta = modela.fit()\n",
    "resulta.summary()"
   ]
  },
  {
   "cell_type": "markdown",
   "metadata": {},
   "source": [
    "#### 실제값과 회귀모델 식으로 구한 값사이의 연관성을 확인"
   ]
  },
  {
   "cell_type": "code",
   "execution_count": null,
   "metadata": {
    "scrolled": true
   },
   "outputs": [],
   "source": [
    "y_newa = resulta.predict(filter_X[fList])\n",
    "ya = filter_X.apply(lambda x:np.log(x.trip_duration),axis=1)\n",
    "#ya = filter_X['trip_duration']\n",
    "plt.scatter(ya,y_newa)"
   ]
  },
  {
   "cell_type": "markdown",
   "metadata": {},
   "source": [
    "#### 종속변수에 대한 독립변수의 영향도를 F 검정을 사용하여 비교"
   ]
  },
  {
   "cell_type": "code",
   "execution_count": null,
   "metadata": {
    "scrolled": false
   },
   "outputs": [],
   "source": [
    "sm.stats.anova_lm(resulta,typ =2)"
   ]
  },
  {
   "cell_type": "markdown",
   "metadata": {},
   "source": [
    "#### 잔차의 정규성을 확인"
   ]
  },
  {
   "cell_type": "code",
   "execution_count": null,
   "metadata": {
    "scrolled": true
   },
   "outputs": [],
   "source": [
    "sp.stats.probplot(resulta.resid, plot=plt)\n",
    "plt.show()"
   ]
  },
  {
   "cell_type": "code",
   "execution_count": null,
   "metadata": {},
   "outputs": [],
   "source": [
    "test = sms.omni_normtest(resulta.resid)\n",
    "for xi in zip(['Chi^2', 'P-value'], test):\n",
    "    print (\"%-10s: %6.3f \" % xi)"
   ]
  },
  {
   "cell_type": "code",
   "execution_count": null,
   "metadata": {},
   "outputs": [],
   "source": [
    "test = sms.jarque_bera(resulta.resid)\n",
    "for xi in zip(['Jarque-Bera', 'P-value', 'Skew', 'Kurtosis'], test):\n",
    "    print(\"%-12s: %6.3f\" % xi)"
   ]
  },
  {
   "cell_type": "markdown",
   "metadata": {},
   "source": [
    "* 잔차의 정규성을 확인했을때, outlier를 제거하기 전보다 좋아지는 것을 확인하였으나 정규분포를 따르지 않는다는 것을 확인"
   ]
  },
  {
   "cell_type": "markdown",
   "metadata": {},
   "source": [
    "#### 잔차와 독립변수의 관계 확인\n",
    "* 이분산성"
   ]
  },
  {
   "cell_type": "code",
   "execution_count": null,
   "metadata": {
    "scrolled": false
   },
   "outputs": [],
   "source": [
    "fig = plt.figure(figsize=(10,10))\n",
    "plt.scatter(resulta.predict(),resulta.resid)\n",
    "plt.show()"
   ]
  },
  {
   "cell_type": "markdown",
   "metadata": {},
   "source": [
    "* 자기 상관 계수 확인"
   ]
  },
  {
   "cell_type": "code",
   "execution_count": null,
   "metadata": {},
   "outputs": [],
   "source": [
    "print (stools.durbin_watson(resulta.resid))"
   ]
  },
  {
   "cell_type": "markdown",
   "metadata": {},
   "source": [
    "##### Root Mean Squared Logarithmic Error (RMSLE)"
   ]
  },
  {
   "cell_type": "code",
   "execution_count": null,
   "metadata": {},
   "outputs": [],
   "source": [
    "y_newais = np.exp(y_newa)\n",
    "rmsle(filter_X['trip_duration'],y_newais)"
   ]
  },
  {
   "cell_type": "markdown",
   "metadata": {},
   "source": [
    "#### Test 결과 도출"
   ]
  },
  {
   "cell_type": "code",
   "execution_count": null,
   "metadata": {},
   "outputs": [],
   "source": [
    "test = pd.read_csv('./data/transformed_test.csv')\n",
    "print (\"Training data has {} rows and {} columns\".format(test.shape[0],test.shape[1]))\n",
    "print (\"data : {}\".format(test.shape[0]))\n",
    "print (\"Feature : {}\".format(test.shape[1]))"
   ]
  },
  {
   "cell_type": "code",
   "execution_count": null,
   "metadata": {
    "scrolled": true
   },
   "outputs": [],
   "source": [
    "print (test.shape)\n",
    "test.describe()"
   ]
  },
  {
   "cell_type": "code",
   "execution_count": null,
   "metadata": {},
   "outputs": [],
   "source": [
    "filter_X.pickup_Province.unique()"
   ]
  },
  {
   "cell_type": "code",
   "execution_count": null,
   "metadata": {
    "scrolled": false
   },
   "outputs": [],
   "source": [
    "testy = resulta.predict(test[fList])"
   ]
  },
  {
   "cell_type": "code",
   "execution_count": null,
   "metadata": {},
   "outputs": [],
   "source": [
    "tx = pd.concat([test['id'],testy],axis=1)"
   ]
  },
  {
   "cell_type": "code",
   "execution_count": null,
   "metadata": {},
   "outputs": [],
   "source": [
    "tx.rename({0:\"trip_duration\"},inplace = True)"
   ]
  },
  {
   "cell_type": "code",
   "execution_count": null,
   "metadata": {},
   "outputs": [],
   "source": [
    "tx.to_csv('./data/submission_Sigma.csv',index = False)"
   ]
  },
  {
   "cell_type": "code",
   "execution_count": null,
   "metadata": {},
   "outputs": [],
   "source": [
    "answer = pd.read_csv('./data/test_answer_nyc_taxi.csv',low_memory=False)\n",
    "answer.dropna(axis=0,inplace = True)"
   ]
  },
  {
   "cell_type": "code",
   "execution_count": null,
   "metadata": {
    "scrolled": true
   },
   "outputs": [],
   "source": [
    "rmsle(answer.trip_duration, np.exp(testy))"
   ]
  },
  {
   "cell_type": "markdown",
   "metadata": {
    "collapsed": true
   },
   "source": [
    "#### 결과\n",
    "* Feature에 대한 이해를 통하여 회귀 모델을 만드는 것이 중요하다는 생각으로 접근\n",
    "* Linear Regresssion 모델을 통하여 예측을 해보고자 하였음\n",
    " * 최종으로 도출된 모델에서 잔차의 정규성이 맞는 않는 것을 확인\n",
    " * 개선의 필요성이 있음\n",
    "* pickup 위치와 dropoff위치를 뉴욕의 주단위로 묶어서 진행하였는데 좀 더 세분화하여 진행하면 더 정확해지지 않을까라는 생각을 함\n",
    "* 클러스터링이나 다른 분석기법을 이용하여 좀 더 정확한 예측이 가능할 것으로 판단됨\n",
    "* outlier를 어떻게 처리하는지에 대하여 좀더 생각해볼 필요성을 느낌\n"
   ]
  },
  {
   "cell_type": "markdown",
   "metadata": {
    "collapsed": true
   },
   "source": [
    "0.48888\n"
   ]
  }
 ],
 "metadata": {
  "kernelspec": {
   "display_name": "Python 3",
   "language": "python",
   "name": "python3"
  },
  "language_info": {
   "codemirror_mode": {
    "name": "ipython",
    "version": 3
   },
   "file_extension": ".py",
   "mimetype": "text/x-python",
   "name": "python",
   "nbconvert_exporter": "python",
   "pygments_lexer": "ipython3",
   "version": "3.6.4"
  }
 },
 "nbformat": 4,
 "nbformat_minor": 2
}
