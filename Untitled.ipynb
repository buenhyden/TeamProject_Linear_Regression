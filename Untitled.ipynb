{
 "cells": [
  {
   "cell_type": "code",
   "execution_count": 2,
   "metadata": {
    "collapsed": true
   },
   "outputs": [],
   "source": [
    "import pandas as pd\n",
    "import numpy as np\n",
    "import matplotlib.pyplot as plt\n",
    "import matplotlib\n",
    "from datetime import datetime\n",
    "from datetime import date\n",
    "import seaborn as sns\n",
    "from shapely.geometry import Point, MultiPolygon,Polygon\n",
    "import geojson\n",
    "import folium\n",
    "%matplotlib inline"
   ]
  },
  {
   "cell_type": "code",
   "execution_count": 32,
   "metadata": {
    "collapsed": true
   },
   "outputs": [],
   "source": [
    "def haversine_array(latitude1, longitude1, latitude2, longitude2):\n",
    "    latitude1, longitude1, latitude2, longitude2 = map(np.radians, (latitude1, longitude1, latitude2, longitude2))\n",
    "    # The average radius of the earth\n",
    "    # in km\n",
    "    AVG_EARTH_RADIUS = 6371\n",
    "    lat = latitude2 - latitude1\n",
    "    lng = longitude2 - longitude1\n",
    "    d = np.sin(lat * 0.5) ** 2 + np.cos(latitude1) * np.cos(latitude2) * np.sin(lng * 0.5) ** 2\n",
    "    h = 2 * AVG_EARTH_RADIUS * np.arcsin(np.sqrt(d))\n",
    "    return h"
   ]
  },
  {
   "cell_type": "code",
   "execution_count": 1,
   "metadata": {},
   "outputs": [
    {
     "ename": "IndentationError",
     "evalue": "unexpected indent (<ipython-input-1-117a0ee8625d>, line 2)",
     "output_type": "error",
     "traceback": [
      "\u001b[1;36m  File \u001b[1;32m\"<ipython-input-1-117a0ee8625d>\"\u001b[1;36m, line \u001b[1;32m2\u001b[0m\n\u001b[1;33m    dfX_new = pd.DataFrame(xx[:, np.newaxis], columns=[\"x\"])\u001b[0m\n\u001b[1;37m    ^\u001b[0m\n\u001b[1;31mIndentationError\u001b[0m\u001b[1;31m:\u001b[0m unexpected indent\n"
     ]
    }
   ],
   "source": [
    "xx = np.linspace(0, 1, 1000)\n",
    "        dfX_new = pd.DataFrame(xx[:, np.newaxis], columns=[\"x\"])\n",
    "        ax.plot(xx, result.predict(dfX_new))\n",
    "        ax.set_ylim(-2, 2)\n",
    "        ax.set_title(\"Degree={}, Seed={}\".format(degree, seed))\n",
    "        xlabel = \"\\n\".join(str(result.params).split(\"\\n\")[:-1])\n",
    "        font = {'family': 'NanumGothicCoding', 'color':  'black', 'size': 10}\n",
    "        ax.set_xlabel(xlabel, fontdict=font)"
   ]
  },
  {
   "cell_type": "code",
   "execution_count": 128,
   "metadata": {},
   "outputs": [
    {
     "data": {
      "text/plain": [
       "{'J': [-73.7712935119941, 40.640120620653406],\n",
       " 'L': [-73.87586383165385, 40.77816708075414]}"
      ]
     },
     "execution_count": 128,
     "metadata": {},
     "output_type": "execute_result"
    }
   ],
   "source": [
    "dot"
   ]
  },
  {
   "cell_type": "code",
   "execution_count": 118,
   "metadata": {
    "collapsed": true,
    "scrolled": true
   },
   "outputs": [],
   "source": [
    "train = pd.read_csv('./data/tranformed_train.csv')"
   ]
  },
  {
   "cell_type": "code",
   "execution_count": 119,
   "metadata": {
    "collapsed": true
   },
   "outputs": [],
   "source": [
    "train = train[:][(train['pickup_Province']=='Queens') | (train['dropoff_Province']=='Queens')]"
   ]
  },
  {
   "cell_type": "code",
   "execution_count": 152,
   "metadata": {
    "collapsed": true
   },
   "outputs": [],
   "source": [
    "def CheckAirport(df, long, lati, province, f):\n",
    "    if province == f:\n",
    "        filterIs = list(filter(lambda x: haversine_array(long,lati,df[x][0],df[x][1]) < 1.5, df))\n",
    "        if not filterIs:\n",
    "            out = 'N'\n",
    "        else:\n",
    "            out = filterIs[0]\n",
    "    else:\n",
    "        out ='N'\n",
    "    return out"
   ]
  },
  {
   "cell_type": "code",
   "execution_count": 153,
   "metadata": {
    "collapsed": true
   },
   "outputs": [],
   "source": [
    "train['pickup_Airport'] = train.apply(lambda x: CheckAirport(dot, x.pickup_longitude, x.pickup_latitude,x.pickup_Province, 'Queens'), axis = 1)"
   ]
  },
  {
   "cell_type": "code",
   "execution_count": 154,
   "metadata": {
    "collapsed": true
   },
   "outputs": [],
   "source": [
    "train['dropoff_Airport'] = train.apply(lambda x: CheckAirport(dot, x.dropoff_longitude, x.dropoff_latitude, x.dropoff_Province, 'Queens'), axis = 1)"
   ]
  },
  {
   "cell_type": "code",
   "execution_count": 169,
   "metadata": {},
   "outputs": [
    {
     "data": {
      "text/plain": [
       "pickup_Airport\n",
       "J    2211.0\n",
       "L    1592.5\n",
       "N    1489.0\n",
       "Name: trip_duration, dtype: float64"
      ]
     },
     "execution_count": 169,
     "metadata": {},
     "output_type": "execute_result"
    }
   ],
   "source": [
    "#train[:][(train['pickup_Province']=='Queens') | (train['dropoff_Province']=='Queens')]\n",
    "train.groupby(['pickup_Airport']).median()['trip_duration']"
   ]
  },
  {
   "cell_type": "code",
   "execution_count": 170,
   "metadata": {},
   "outputs": [
    {
     "data": {
      "text/plain": [
       "dropoff_Airport\n",
       "J    2339\n",
       "L    1464\n",
       "N    1611\n",
       "Name: trip_duration, dtype: int64"
      ]
     },
     "execution_count": 170,
     "metadata": {},
     "output_type": "execute_result"
    }
   ],
   "source": [
    "train.groupby(['dropoff_Airport']).median()['trip_duration']"
   ]
  },
  {
   "cell_type": "code",
   "execution_count": 164,
   "metadata": {},
   "outputs": [
    {
     "data": {
      "text/plain": [
       "<matplotlib.axes._subplots.AxesSubplot at 0x18624cdd2e8>"
      ]
     },
     "execution_count": 164,
     "metadata": {},
     "output_type": "execute_result"
    },
    {
     "data": {
      "image/png": "[encoded data removed]",
      "text/plain": [
       "<matplotlib.figure.Figure at 0x18624cf4080>"
      ]
     },
     "metadata": {},
     "output_type": "display_data"
    }
   ],
   "source": [
    "sns.boxplot(x= 'pickup_Airport', y = 'trip_duration',data = train[:][train['trip_duration']<150000])"
   ]
  },
  {
   "cell_type": "code",
   "execution_count": 182,
   "metadata": {},
   "outputs": [
    {
     "data": {
      "text/html": [
       "<div>\n",
       "<style>\n",
       "    .dataframe thead tr:only-child th {\n",
       "        text-align: right;\n",
       "    }\n",
       "\n",
       "    .dataframe thead th {\n",
       "        text-align: left;\n",
       "    }\n",
       "\n",
       "    .dataframe tbody tr th {\n",
       "        vertical-align: top;\n",
       "    }\n",
       "</style>\n",
       "<table border=\"1\" class=\"dataframe\">\n",
       "  <thead>\n",
       "    <tr style=\"text-align: right;\">\n",
       "      <th>pickup_Airport</th>\n",
       "      <th>J</th>\n",
       "      <th>L</th>\n",
       "      <th>N</th>\n",
       "    </tr>\n",
       "    <tr>\n",
       "      <th>dropoff_Province</th>\n",
       "      <th></th>\n",
       "      <th></th>\n",
       "      <th></th>\n",
       "    </tr>\n",
       "  </thead>\n",
       "  <tbody>\n",
       "    <tr>\n",
       "      <th>Bronx</th>\n",
       "      <td>2300.5</td>\n",
       "      <td>1418.0</td>\n",
       "      <td>2005.0</td>\n",
       "    </tr>\n",
       "    <tr>\n",
       "      <th>Brooklyn</th>\n",
       "      <td>2102.5</td>\n",
       "      <td>1629.0</td>\n",
       "      <td>1948.0</td>\n",
       "    </tr>\n",
       "    <tr>\n",
       "      <th>Manhattan</th>\n",
       "      <td>2601.0</td>\n",
       "      <td>1728.0</td>\n",
       "      <td>2111.5</td>\n",
       "    </tr>\n",
       "    <tr>\n",
       "      <th>Queens</th>\n",
       "      <td>1184.0</td>\n",
       "      <td>811.0</td>\n",
       "      <td>1387.0</td>\n",
       "    </tr>\n",
       "    <tr>\n",
       "      <th>Staten Island</th>\n",
       "      <td>2587.0</td>\n",
       "      <td>2722.0</td>\n",
       "      <td>2897.5</td>\n",
       "    </tr>\n",
       "    <tr>\n",
       "      <th>outward</th>\n",
       "      <td>1963.0</td>\n",
       "      <td>2198.0</td>\n",
       "      <td>2222.5</td>\n",
       "    </tr>\n",
       "  </tbody>\n",
       "</table>\n",
       "</div>"
      ],
      "text/plain": [
       "pickup_Airport         J       L       N\n",
       "dropoff_Province                        \n",
       "Bronx             2300.5  1418.0  2005.0\n",
       "Brooklyn          2102.5  1629.0  1948.0\n",
       "Manhattan         2601.0  1728.0  2111.5\n",
       "Queens            1184.0   811.0  1387.0\n",
       "Staten Island     2587.0  2722.0  2897.5\n",
       "outward           1963.0  2198.0  2222.5"
      ]
     },
     "execution_count": 182,
     "metadata": {},
     "output_type": "execute_result"
    },
    {
     "data": {
      "image/png": "[encoded data removed]",
      "text/plain": [
       "<matplotlib.figure.Figure at 0x186275b39e8>"
      ]
     },
     "metadata": {},
     "output_type": "display_data"
    }
   ],
   "source": [
    "xx = train.groupby(['dropoff_Province','pickup_Airport'])['trip_duration'].median().unstack()\n",
    "sns.heatmap(xx,lw = .5, annot = True, cmap = 'GnBu', fmt = 'g',annot_kws = {\"size\":10} )\n",
    "xx"
   ]
  },
  {
   "cell_type": "code",
   "execution_count": 178,
   "metadata": {},
   "outputs": [
    {
     "data": {
      "text/plain": [
       "pickup_Province  dropoff_Airport\n",
       "Bronx            J                      2\n",
       "                 L                      3\n",
       "                 N                     13\n",
       "Brooklyn         J                     56\n",
       "                 L                    101\n",
       "                 N                    572\n",
       "Manhattan        J                   2378\n",
       "                 L                   7068\n",
       "                 N                  14645\n",
       "Queens           J                    497\n",
       "                 L                   1176\n",
       "                 N                  38407\n",
       "Staten Island    J                      1\n",
       "outward          J                      1\n",
       "                 L                      2\n",
       "                 N                     13\n",
       "Name: trip_duration, dtype: int64"
      ]
     },
     "execution_count": 178,
     "metadata": {},
     "output_type": "execute_result"
    }
   ],
   "source": [
    "train.groupby(['pickup_Province','dropoff_Airport']).count()['trip_duration']"
   ]
  },
  {
   "cell_type": "code",
   "execution_count": 25,
   "metadata": {},
   "outputs": [
    {
     "data": {
      "text/html": [
       "<div>\n",
       "<style>\n",
       "    .dataframe thead tr:only-child th {\n",
       "        text-align: right;\n",
       "    }\n",
       "\n",
       "    .dataframe thead th {\n",
       "        text-align: left;\n",
       "    }\n",
       "\n",
       "    .dataframe tbody tr th {\n",
       "        vertical-align: top;\n",
       "    }\n",
       "</style>\n",
       "<table border=\"1\" class=\"dataframe\">\n",
       "  <thead>\n",
       "    <tr style=\"text-align: right;\">\n",
       "      <th></th>\n",
       "      <th>month</th>\n",
       "      <th>day</th>\n",
       "      <th>hr</th>\n",
       "      <th>Temp.</th>\n",
       "      <th>Precip</th>\n",
       "      <th>snow</th>\n",
       "      <th>Visibility</th>\n",
       "    </tr>\n",
       "  </thead>\n",
       "  <tbody>\n",
       "    <tr>\n",
       "      <th>2874</th>\n",
       "      <td>4</td>\n",
       "      <td>29</td>\n",
       "      <td>20</td>\n",
       "      <td>11.1</td>\n",
       "      <td>0.0</td>\n",
       "      <td>0</td>\n",
       "      <td>16.1</td>\n",
       "    </tr>\n",
       "    <tr>\n",
       "      <th>2875</th>\n",
       "      <td>4</td>\n",
       "      <td>29</td>\n",
       "      <td>21</td>\n",
       "      <td>8.3</td>\n",
       "      <td>0.3</td>\n",
       "      <td>0</td>\n",
       "      <td>16.1</td>\n",
       "    </tr>\n",
       "    <tr>\n",
       "      <th>2876</th>\n",
       "      <td>4</td>\n",
       "      <td>29</td>\n",
       "      <td>22</td>\n",
       "      <td>8.9</td>\n",
       "      <td>0.3</td>\n",
       "      <td>0</td>\n",
       "      <td>16.1</td>\n",
       "    </tr>\n",
       "    <tr>\n",
       "      <th>2877</th>\n",
       "      <td>4</td>\n",
       "      <td>29</td>\n",
       "      <td>23</td>\n",
       "      <td>9.4</td>\n",
       "      <td>0.0</td>\n",
       "      <td>0</td>\n",
       "      <td>16.1</td>\n",
       "    </tr>\n",
       "    <tr>\n",
       "      <th>2878</th>\n",
       "      <td>4</td>\n",
       "      <td>30</td>\n",
       "      <td>0</td>\n",
       "      <td>7.8</td>\n",
       "      <td>0.5</td>\n",
       "      <td>0</td>\n",
       "      <td>12.9</td>\n",
       "    </tr>\n",
       "  </tbody>\n",
       "</table>\n",
       "</div>"
      ],
      "text/plain": [
       "      month  day  hr  Temp.  Precip  snow  Visibility\n",
       "2874      4   29  20   11.1     0.0     0        16.1\n",
       "2875      4   29  21    8.3     0.3     0        16.1\n",
       "2876      4   29  22    8.9     0.3     0        16.1\n",
       "2877      4   29  23    9.4     0.0     0        16.1\n",
       "2878      4   30   0    7.8     0.5     0        12.9"
      ]
     },
     "execution_count": 25,
     "metadata": {},
     "output_type": "execute_result"
    }
   ],
   "source": [
    "weatherData.tail()"
   ]
  }
 ],
 "metadata": {
  "kernelspec": {
   "display_name": "Python 3",
   "language": "python",
   "name": "python3"
  },
  "language_info": {
   "codemirror_mode": {
    "name": "ipython",
    "version": 3
   },
   "file_extension": ".py",
   "mimetype": "text/x-python",
   "name": "python",
   "nbconvert_exporter": "python",
   "pygments_lexer": "ipython3",
   "version": "3.6.3"
  }
 },
 "nbformat": 4,
 "nbformat_minor": 2
}
